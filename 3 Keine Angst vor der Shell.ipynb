{
 "cells": [
  {
   "cell_type": "markdown",
   "metadata": {},
   "source": [
    "# 3. Keine Angst vor der Shell\n",
    "\n",
    "Für den Fall, dass Sie nicht mehr wissen sollten, mit welcher Shell Sie gerade\n",
    "arbeiten, hilft die Eingabe von \"echo $0\", die so ziemlich überall funktioniert\n",
    "und als Ausgabe die Bezeichnung der Shell liefert."
   ]
  },
  {
   "cell_type": "code",
   "execution_count": 3,
   "metadata": {},
   "outputs": [
    {
     "name": "stdout",
     "output_type": "stream",
     "text": [
      "/bin/bash\r\n"
     ]
    }
   ],
   "source": [
    "echo $0"
   ]
  },
  {
   "cell_type": "markdown",
   "metadata": {},
   "source": [
    "## Übungen\n",
    "\n",
    "C 3.1 [2] Wie viele verschiedene Shells sind auf Ihrem Rechner installiert und welche? (Tipp: Prüfen Sie die Datei /etc/shells.)\n",
    "\n",
    "C 3.2 [2] Melden Sie sich ab und wieder an und prüfen Sie die Ausgabe des Kommandos __echo \\$0__ in der __Loginshell__. Starten Sie mit dem Kommando __bash__ eine neue Shell und geben Sie wiederum das Kommando __echo \\$0__.\n",
    "\n",
    "Vergleichen Sie die Ausgabe der beiden Kommandos. Fällt Ihnen etwas auf?"
   ]
  },
  {
   "cell_type": "markdown",
   "metadata": {},
   "source": [
    "## 3.3 Kommandos"
   ]
  },
  {
   "cell_type": "code",
   "execution_count": 1,
   "metadata": {},
   "outputs": [
    {
     "name": "stdout",
     "output_type": "stream",
     "text": [
      "echo ist eine von der Shell mitgelieferte Funktion.\r\n"
     ]
    }
   ],
   "source": [
    "type echo"
   ]
  },
  {
   "cell_type": "code",
   "execution_count": 2,
   "metadata": {},
   "outputs": [
    {
     "name": "stdout",
     "output_type": "stream",
     "text": [
      "date ist /bin/date\r\n"
     ]
    }
   ],
   "source": [
    "type date"
   ]
  },
  {
   "cell_type": "code",
   "execution_count": 3,
   "metadata": {},
   "outputs": [
    {
     "name": "stdout",
     "output_type": "stream",
     "text": [
      "Ha, wackrer Tell! Das gleicht dem Waidgesellen!\r\n"
     ]
    }
   ],
   "source": [
    "echo Ha, wackrer Tell! Das gleicht dem Waidgesellen!"
   ]
  },
  {
   "cell_type": "code",
   "execution_count": 4,
   "metadata": {},
   "outputs": [
    {
     "name": "stdout",
     "output_type": "stream",
     "text": [
      "Mo 3. Okt 16:09:50 CEST 2016\r\n"
     ]
    }
   ],
   "source": [
    "date"
   ]
  },
  {
   "cell_type": "code",
   "execution_count": 5,
   "metadata": {},
   "outputs": [
    {
     "name": "stdout",
     "output_type": "stream",
     "text": [
      "type: type [-afptP] Name [Name ...]\r\n",
      "    Zeigt Informationen über den Kommando-Typ.\r\n",
      "    \r\n",
      "    Für jeden NAMEn wird angezeigt, wie er interpretiert würde, wenn er als\r\n",
      "    Kommando verwendet wird.\r\n",
      "    \r\n",
      "    Optionen:\r\n",
      "      -a\tZeigt alle Orte, die eine ausführbare Anwendung NAME enthalten;\r\n",
      "        \tbeinhaltet Aliase, eingebaute Shell-Kommandos und Funktionen,\r\n",
      "        \twenn und nur wenn die Option »-p« nicht auch genutzt wird.\r\n",
      "      -f\tUnterdrückt das Nachschlagen von Shell-Funktionen.\r\n",
      "      -P\tErzwingt eine Suche nach jedem NAMEn in $PATH, auch wenn es ein \r\n",
      "        \tAlias, eingebautes Kommando oder Funktion ist und gibt den \r\n",
      "        \tNamen der Datenträgerdatei zurück, die ausgeführt würde.\r\n",
      "      -p\tGibt entweder den Namen der Datenträgerdatei zurück, die ausgeführt\r\n",
      "        \twürde, oder nichts, wenn »type -t NAME« nicht »file« zurück gibt.\r\n",
      "      -t\tGibt ein einzelnes Wort aus »alias«, »keyword«,\r\n",
      "        \t»function«, »builtin«, »file« oder »« zurück, wenn NAME ein\r\n",
      "        \tAlias, ein reserviertes Shell-Wort, eine Shell-Funktion, ein\r\n",
      "        \teingebautes Shell-Kommando oder eine Datenträgerdatei ist, oder\r\n",
      "        \tnicht gefunden wurde.\r\n",
      "    \r\n",
      "    Argumente:\r\n",
      "      NAME\tDer Name des zu interpretierenden Kommandos.\r\n",
      "    \r\n",
      "    Rückgabewert:\r\n",
      "    Gibt »Erfolg« zurück, wenn alle NAMEn gefunden werden, scheitert, wenn\r\n",
      "    einige nicht gefunden werden.\r\n"
     ]
    }
   ],
   "source": [
    "help type"
   ]
  },
  {
   "cell_type": "markdown",
   "metadata": {},
   "source": [
    "Übungen\n",
    "C 3.3 [2] Welche der folgenden Kommandos sind bei der Bash extern und welche intern realisiert:\n",
    "\n",
    "* alias,\n",
    "* echo,\n",
    "* rm,\n",
    "* test"
   ]
  },
  {
   "cell_type": "markdown",
   "metadata": {},
   "source": [
    "### 3.3.4 Noch mehr Spielregeln"
   ]
  },
  {
   "cell_type": "code",
   "execution_count": 6,
   "metadata": {},
   "outputs": [
    {
     "name": "stdout",
     "output_type": "stream",
     "text": []
    }
   ],
   "source": [
    "touch 'Neue Datei'"
   ]
  },
  {
   "cell_type": "code",
   "execution_count": 11,
   "metadata": {},
   "outputs": [
    {
     "name": "stdout",
     "output_type": "stream",
     "text": [
      "data  Neue Datei  www\r\n"
     ]
    }
   ],
   "source": [
    "ls"
   ]
  },
  {
   "cell_type": "markdown",
   "metadata": {},
   "source": [
    "## Weblinks\n",
    "\n",
    "* https://wiki.ubuntuusers.de/Shell/\n",
    "* https://wiki.ubuntuusers.de/Shell/Einf%C3%BChrung/\n",
    "* https://wiki.ubuntuusers.de/Shell/Prozesssteuerung/\n",
    "\n",
    "Bitte eigenständig durchlesen und durchführen."
   ]
  }
 ],
 "metadata": {
  "kernelspec": {
   "display_name": "Bash",
   "language": "bash",
   "name": "bash"
  },
  "language_info": {
   "codemirror_mode": "shell",
   "file_extension": ".sh",
   "mimetype": "text/x-sh",
   "name": "bash"
  }
 },
 "nbformat": 4,
 "nbformat_minor": 0
}
