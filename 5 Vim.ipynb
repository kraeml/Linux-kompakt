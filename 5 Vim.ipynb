{
 "cells": [
  {
   "cell_type": "markdown",
   "metadata": {},
   "source": [
    "# VI\n",
    "\n",
    "## Übungen\n",
    "\n",
    "C 5.1 [2] Welche Texteditoren sind auf Ihrem System installiert? Wie können Sie das herausfinden?"
   ]
  },
  {
   "cell_type": "markdown",
   "metadata": {},
   "source": [
    "## Übungen\n",
    "\n",
    "C 5.2 [5] (Für Systeme mit vim , z. B. die SUSE-Distributionen.) Finden Sie heraus, wie die interaktive vim -Einführung aufgerufen wird, und arbeiten Sie sie durch."
   ]
  }
 ],
 "metadata": {
  "kernelspec": {
   "display_name": "Bash",
   "language": "bash",
   "name": "bash"
  },
  "language_info": {
   "codemirror_mode": "shell",
   "file_extension": ".sh",
   "mimetype": "text/x-sh",
   "name": "bash"
  }
 },
 "nbformat": 4,
 "nbformat_minor": 0
}
