{
 "cells": [
  {
   "cell_type": "markdown",
   "metadata": {},
   "source": [
    "# Dateien\n",
    "\n",
    "Wir gehen in ~. Wechseln ins Verzeichenis data und falls das Verzeichnis data existiert, wird dieses gelöscht."
   ]
  },
  {
   "cell_type": "code",
   "execution_count": 128,
   "metadata": {},
   "outputs": [
    {
     "name": "stdout",
     "output_type": "stream",
     "text": [
      "/home/vagrant/data\r\n",
      "3 Keine Angst vor der Shell.ipynb  5 Vim.ipynb      geschweifte\r\n",
      "4 Hilfe.ipynb                      6 Dateien.ipynb  suchmuster\r\n"
     ]
    }
   ],
   "source": [
    "cd\n",
    "cd data\n",
    "pwd\n",
    "if [ -d briefe ]; then rm -rf briefe; fi;\n",
    "ls"
   ]
  },
  {
   "cell_type": "markdown",
   "metadata": {},
   "source": [
    "Erstellen von Verzeichnissen und hineinwechseln"
   ]
  },
  {
   "cell_type": "code",
   "execution_count": 129,
   "metadata": {},
   "outputs": [
    {
     "name": "stdout",
     "output_type": "stream",
     "text": []
    }
   ],
   "source": [
    "mkdir briefe"
   ]
  },
  {
   "cell_type": "code",
   "execution_count": 33,
   "metadata": {},
   "outputs": [
    {
     "name": "stdout",
     "output_type": "stream",
     "text": []
    }
   ],
   "source": [
    "cd briefe"
   ]
  },
  {
   "cell_type": "code",
   "execution_count": 130,
   "metadata": {},
   "outputs": [
    {
     "name": "stdout",
     "output_type": "stream",
     "text": [
      "/home/vagrant/data\r\n"
     ]
    }
   ],
   "source": [
    "pwd"
   ]
  },
  {
   "cell_type": "markdown",
   "metadata": {},
   "source": [
    "Übergeordnetes Verzeichnis"
   ]
  },
  {
   "cell_type": "code",
   "execution_count": 35,
   "metadata": {},
   "outputs": [
    {
     "name": "stdout",
     "output_type": "stream",
     "text": [
      "/home/vagrant/data\r\n"
     ]
    }
   ],
   "source": [
    "cd ..\n",
    "pwd"
   ]
  },
  {
   "cell_type": "code",
   "execution_count": null,
   "metadata": {},
   "outputs": [],
   "source": [
    "Zurück ins Homeverzeichnis"
   ]
  },
  {
   "cell_type": "code",
   "execution_count": 36,
   "metadata": {},
   "outputs": [
    {
     "name": "stdout",
     "output_type": "stream",
     "text": [
      "/home/vagrant\r\n"
     ]
    }
   ],
   "source": [
    "cd\n",
    "pwd"
   ]
  },
  {
   "cell_type": "markdown",
   "metadata": {},
   "source": [
    "Zurück ins vorheriges Verzeichnis"
   ]
  },
  {
   "cell_type": "code",
   "execution_count": 37,
   "metadata": {},
   "outputs": [
    {
     "name": "stdout",
     "output_type": "stream",
     "text": [
      "/home/vagrant/data\r\n"
     ]
    }
   ],
   "source": [
    "cd -"
   ]
  },
  {
   "cell_type": "code",
   "execution_count": 38,
   "metadata": {},
   "outputs": [
    {
     "name": "stdout",
     "output_type": "stream",
     "text": []
    }
   ],
   "source": [
    "cd /var/www"
   ]
  },
  {
   "cell_type": "code",
   "execution_count": 39,
   "metadata": {},
   "outputs": [
    {
     "name": "stdout",
     "output_type": "stream",
     "text": [
      "/var/www\r\n"
     ]
    }
   ],
   "source": [
    "pwd"
   ]
  },
  {
   "cell_type": "code",
   "execution_count": 23,
   "metadata": {},
   "outputs": [
    {
     "name": "stdout",
     "output_type": "stream",
     "text": [
      "html\r\n"
     ]
    }
   ],
   "source": [
    "ls"
   ]
  },
  {
   "cell_type": "code",
   "execution_count": 40,
   "metadata": {},
   "outputs": [
    {
     "name": "stdout",
     "output_type": "stream",
     "text": []
    }
   ],
   "source": [
    "cd html"
   ]
  },
  {
   "cell_type": "code",
   "execution_count": 25,
   "metadata": {},
   "outputs": [
    {
     "name": "stdout",
     "output_type": "stream",
     "text": [
      "/var/www/html\r\n"
     ]
    }
   ],
   "source": [
    "pwd"
   ]
  },
  {
   "cell_type": "code",
   "execution_count": 41,
   "metadata": {},
   "outputs": [
    {
     "name": "stdout",
     "output_type": "stream",
     "text": []
    }
   ],
   "source": [
    "cd"
   ]
  },
  {
   "cell_type": "code",
   "execution_count": 27,
   "metadata": {},
   "outputs": [
    {
     "name": "stdout",
     "output_type": "stream",
     "text": [
      "/home/vagrant\r\n"
     ]
    }
   ],
   "source": [
    "pwd"
   ]
  },
  {
   "cell_type": "code",
   "execution_count": 42,
   "metadata": {},
   "outputs": [
    {
     "name": "stdout",
     "output_type": "stream",
     "text": [
      "/var/www/html\r\n"
     ]
    }
   ],
   "source": [
    "cd -"
   ]
  },
  {
   "cell_type": "code",
   "execution_count": 131,
   "metadata": {},
   "outputs": [
    {
     "name": "stdout",
     "output_type": "stream",
     "text": []
    }
   ],
   "source": [
    "cd\n",
    "cd data/briefe\n",
    "touch datei.txt datei2.txt"
   ]
  },
  {
   "cell_type": "markdown",
   "metadata": {},
   "source": [
    "## Übungen\n",
    "\n",
    "C 6.1 [2] Ist cd ein externes Kommando oder als internes Kommando in die Shell eingebaut? Warum?\n",
    "\n",
    "C 6.2 [3] Lesen Sie in der Handbuchseite der bash über die Kommandos pushd,\n",
    "popd und dirs nach. Überzeugen Sie sich, dass diese Kommandos funktionieren."
   ]
  },
  {
   "cell_type": "markdown",
   "metadata": {},
   "source": [
    "### 6.2.2 Dateien und Verzeichnisse auflisten – ls"
   ]
  },
  {
   "cell_type": "code",
   "execution_count": 45,
   "metadata": {},
   "outputs": [
    {
     "name": "stdout",
     "output_type": "stream",
     "text": [
      "datei2.txt  datei.txt\r\n"
     ]
    }
   ],
   "source": [
    "ls"
   ]
  },
  {
   "cell_type": "code",
   "execution_count": 46,
   "metadata": {},
   "outputs": [
    {
     "name": "stdout",
     "output_type": "stream",
     "text": [
      "insgesamt 0\r\n",
      "-rw-rw-r-- 1 vagrant vagrant 0 Okt  3 16:58 datei2.txt\r\n",
      "-rw-rw-r-- 1 vagrant vagrant 0 Okt  3 16:58 datei.txt\r\n"
     ]
    }
   ],
   "source": [
    "ls -l"
   ]
  },
  {
   "cell_type": "markdown",
   "metadata": {},
   "source": [
    "## Übungen\n",
    "\n",
    "C 6.3 [1] Welche Dateien stehen im Verzeichnis /boot ? Hat das Verzeichnis Unerverzeichnisse und, wenn ja, welche?\n",
    "\n",
    "C 6.4 [2] Erklären Sie den Unterschied zwischen ls mit einem Dateinamen als Argument und ls mit einem Verzeichnisnamen als Argument.\n",
    "\n",
    "C 6.5 [2] Wie können Sie ls dazu bringen, bei einem Verzeichnisnamen als Argument Informationen über das benannte Verzeichnis selbst anstatt über die darin enthaltenen Dateien zu liefern?"
   ]
  },
  {
   "cell_type": "markdown",
   "metadata": {},
   "source": [
    "### 6.2.3 Verzeichnisse anlegen und löschen: mkdir und rmdir"
   ]
  },
  {
   "cell_type": "code",
   "execution_count": 52,
   "metadata": {},
   "outputs": [
    {
     "name": "stdout",
     "output_type": "stream",
     "text": []
    }
   ],
   "source": [
    "cd ~/data\n",
    "if [ -d bilder ]; then rm -rf bilder; fi;"
   ]
  },
  {
   "cell_type": "code",
   "execution_count": 53,
   "metadata": {},
   "outputs": [
    {
     "name": "stdout",
     "output_type": "stream",
     "text": [
      "mkdir: das Verzeichnis »bilder/urlaub“ kann nicht angelegt werden: Datei oder Verzeichnis nicht gefunden\r\n"
     ]
    }
   ],
   "source": [
    "mkdir bilder/urlaub"
   ]
  },
  {
   "cell_type": "code",
   "execution_count": 54,
   "metadata": {},
   "outputs": [
    {
     "name": "stdout",
     "output_type": "stream",
     "text": []
    }
   ],
   "source": [
    "mkdir -p bilder/urlaub"
   ]
  },
  {
   "cell_type": "code",
   "execution_count": 55,
   "metadata": {},
   "outputs": [
    {
     "name": "stdout",
     "output_type": "stream",
     "text": [
      "urlaub/\r\n"
     ]
    }
   ],
   "source": [
    "cd bilder\n",
    "ls -F"
   ]
  },
  {
   "cell_type": "code",
   "execution_count": 56,
   "metadata": {},
   "outputs": [
    {
     "name": "stdout",
     "output_type": "stream",
     "text": [
      "3 Keine Angst vor der Shell.ipynb  5 Vim.ipynb      bilder/\r\n",
      "4 Hilfe.ipynb                      6 Dateien.ipynb  briefe/\r\n"
     ]
    }
   ],
   "source": [
    "cd ~/data\n",
    "rmdir bilder/urlaub\n",
    "ls -F"
   ]
  },
  {
   "cell_type": "code",
   "execution_count": 57,
   "metadata": {},
   "outputs": [
    {
     "name": "stdout",
     "output_type": "stream",
     "text": [
      "urlaub/\r\n"
     ]
    }
   ],
   "source": [
    "mkdir -p bilder/urlaub/sommer\n",
    "rmdir bilder/urlaub/sommer\n",
    "ls -F bilder"
   ]
  },
  {
   "cell_type": "code",
   "execution_count": 58,
   "metadata": {},
   "outputs": [
    {
     "name": "stdout",
     "output_type": "stream",
     "text": [
      "ls: Zugriff auf 'bilder' nicht möglich: Datei oder Verzeichnis nicht gefunden\r\n"
     ]
    }
   ],
   "source": [
    "rmdir -p bilder/urlaub\n",
    "ls -F bilder"
   ]
  },
  {
   "cell_type": "markdown",
   "metadata": {},
   "source": [
    "## Übungen\n",
    "\n",
    "C 6.6 [!2] Legen Sie in Ihrem Heimatverzeichnis ein Verzeichnis grd1-test mit den Unterverzeichnissen dir1, dir2 und dir3 an. Wechseln Sie ins Verzeichnis grd1-test/dir1 und legen Sie (etwa mit einem Texteditor) eine Datei namens hallo mit dem Inhalt »hallo« an. Legen Sie in grd1-test/dir2 eine Datei namens huhu mit dem Inhalt »huhu« an. Vergewissern Sie sich, dass diese Dateien angelegt wurden. Löschen Sie das Unterverzeichnis dir3 mit rmdir.\n",
    "\n",
    "Versuchen Sie anschließend, das Unterverzeichnis dir2 mit rmdir zu löschen.\n",
    "\n",
    "Was passiert und warum?"
   ]
  },
  {
   "cell_type": "markdown",
   "metadata": {},
   "source": [
    "## 6.3 Suchmuster für Dateien"
   ]
  },
  {
   "cell_type": "code",
   "execution_count": 115,
   "metadata": {},
   "outputs": [
    {
     "name": "stdout",
     "output_type": "stream",
     "text": [
      "a1.txt    c1.txt    p22.dat     p-.c        prog1.c    prog-.c  rot.txt\r\n",
      "a2.txt    c2.txt    p22.txt     p.c         prog2.c    prog:.c  untitled.txt\r\n",
      "a3.txt    c3.txt    p2.c        p..c        prog3.c    prog.c\r\n",
      "b1.txt    gelb.txt  p3.c        pop-rock.c  prog4.c    prog+.c\r\n",
      "b2.txt    p1.c      p4.c        prog        prog5.c    progQ.c\r\n",
      "b3.txt    p1.txt    pa.c        prog12.c    progabc.c  progx.c\r\n",
      "blau.txt  p21.txt   paulchen.c  prog13.c    prog_.c    p.txt\r\n"
     ]
    }
   ],
   "source": [
    "cd ~/data\n",
    "ls suchmuster"
   ]
  },
  {
   "cell_type": "code",
   "execution_count": 116,
   "metadata": {},
   "outputs": [
    {
     "name": "stdout",
     "output_type": "stream",
     "text": [
      "suchmuster/p1.c        suchmuster/pop-rock.c  suchmuster/prog_.c\r\n",
      "suchmuster/p2.c        suchmuster/prog12.c    suchmuster/prog-.c\r\n",
      "suchmuster/p3.c        suchmuster/prog13.c    suchmuster/prog:.c\r\n",
      "suchmuster/p4.c        suchmuster/prog1.c     suchmuster/prog.c\r\n",
      "suchmuster/pa.c        suchmuster/prog2.c     suchmuster/prog+.c\r\n",
      "suchmuster/paulchen.c  suchmuster/prog3.c     suchmuster/progQ.c\r\n",
      "suchmuster/p-.c        suchmuster/prog4.c     suchmuster/progx.c\r\n",
      "suchmuster/p.c         suchmuster/prog5.c\r\n",
      "suchmuster/p..c        suchmuster/progabc.c\r\n"
     ]
    }
   ],
   "source": [
    "ls suchmuster/p*.c"
   ]
  },
  {
   "cell_type": "code",
   "execution_count": 117,
   "metadata": {},
   "outputs": [
    {
     "name": "stdout",
     "output_type": "stream",
     "text": [
      "suchmuster/p1.c        suchmuster/pop-rock.c  suchmuster/prog_.c\r\n",
      "suchmuster/p2.c        suchmuster/prog12.c    suchmuster/prog-.c\r\n",
      "suchmuster/p3.c        suchmuster/prog13.c    suchmuster/prog:.c\r\n",
      "suchmuster/p4.c        suchmuster/prog1.c     suchmuster/prog.c\r\n",
      "suchmuster/pa.c        suchmuster/prog2.c     suchmuster/prog+.c\r\n",
      "suchmuster/paulchen.c  suchmuster/prog3.c     suchmuster/progQ.c\r\n",
      "suchmuster/p-.c        suchmuster/prog4.c     suchmuster/progx.c\r\n",
      "suchmuster/p.c         suchmuster/prog5.c\r\n",
      "suchmuster/p..c        suchmuster/progabc.c\r\n"
     ]
    }
   ],
   "source": [
    "ls suchmuster/p*.c"
   ]
  },
  {
   "cell_type": "code",
   "execution_count": 118,
   "metadata": {},
   "outputs": [
    {
     "name": "stdout",
     "output_type": "stream",
     "text": [
      "suchmuster/p1.c  suchmuster/p3.c  suchmuster/pa.c  suchmuster/p..c\r\n",
      "suchmuster/p2.c  suchmuster/p4.c  suchmuster/p-.c\r\n"
     ]
    }
   ],
   "source": [
    "ls suchmuster/p?.c"
   ]
  },
  {
   "cell_type": "code",
   "execution_count": 119,
   "metadata": {},
   "outputs": [
    {
     "name": "stdout",
     "output_type": "stream",
     "text": [
      "suchmuster/prog1.c  suchmuster/prog2.c  suchmuster/prog3.c\r\n"
     ]
    }
   ],
   "source": [
    "ls suchmuster/prog[123].c"
   ]
  },
  {
   "cell_type": "code",
   "execution_count": 120,
   "metadata": {},
   "outputs": [
    {
     "name": "stdout",
     "output_type": "stream",
     "text": [
      "suchmuster/prog1.c  suchmuster/prog3.c  suchmuster/prog5.c\r\n",
      "suchmuster/prog2.c  suchmuster/prog4.c\r\n"
     ]
    }
   ],
   "source": [
    "ls suchmuster/prog[1-9].c"
   ]
  },
  {
   "cell_type": "markdown",
   "metadata": {},
   "source": [
    "Achtung dies funktioniert anders als im Buch"
   ]
  },
  {
   "cell_type": "code",
   "execution_count": 121,
   "metadata": {},
   "outputs": [
    {
     "name": "stdout",
     "output_type": "stream",
     "text": [
      "suchmuster/progQ.c  suchmuster/progx.c\r\n"
     ]
    }
   ],
   "source": [
    "ls suchmuster/prog[A-z].c"
   ]
  },
  {
   "cell_type": "code",
   "execution_count": 122,
   "metadata": {},
   "outputs": [
    {
     "name": "stdout",
     "output_type": "stream",
     "text": [
      "suchmuster/prog1.c  suchmuster/prog4.c  suchmuster/prog-.c\r\n",
      "suchmuster/prog2.c  suchmuster/prog5.c  suchmuster/prog:.c\r\n",
      "suchmuster/prog3.c  suchmuster/prog_.c  suchmuster/prog+.c\r\n"
     ]
    }
   ],
   "source": [
    "ls suchmuster/prog[!A-z].c"
   ]
  },
  {
   "cell_type": "markdown",
   "metadata": {},
   "source": [
    "### 6.3.3 Geschweifte Klammern"
   ]
  },
  {
   "cell_type": "code",
   "execution_count": 132,
   "metadata": {},
   "outputs": [
    {
     "name": "stdout",
     "output_type": "stream",
     "text": []
    }
   ],
   "source": [
    "cd ~/data\n",
    "if [ -d geschweifte ]; then rm -rf geschweifte; fi;"
   ]
  },
  {
   "cell_type": "code",
   "execution_count": 133,
   "metadata": {},
   "outputs": [
    {
     "name": "stdout",
     "output_type": "stream",
     "text": [
      "geschweifte\r\n"
     ]
    }
   ],
   "source": [
    "mkdir geschweifte\n",
    "ls -d geschweifte\n",
    "cd geschweifte"
   ]
  },
  {
   "cell_type": "code",
   "execution_count": 134,
   "metadata": {},
   "outputs": [
    {
     "name": "stdout",
     "output_type": "stream",
     "text": [
      "-rw-rw-r-- 1 vagrant vagrant 0 Okt  3 20:35 blau.txt\r\n",
      "-rw-rw-r-- 1 vagrant vagrant 0 Okt  3 20:35 gelb.txt\r\n",
      "-rw-rw-r-- 1 vagrant vagrant 0 Okt  3 20:35 rot.txt\r\n"
     ]
    }
   ],
   "source": [
    "touch {rot,blau,gelb}.txt\n",
    "ls -l *.txt"
   ]
  },
  {
   "cell_type": "code",
   "execution_count": 135,
   "metadata": {},
   "outputs": [
    {
     "name": "stdout",
     "output_type": "stream",
     "text": [
      "-rw-rw-r-- 1 vagrant vagrant 0 Okt  3 20:35 a1.dat\r\n",
      "-rw-rw-r-- 1 vagrant vagrant 0 Okt  3 20:35 a2.dat\r\n",
      "-rw-rw-r-- 1 vagrant vagrant 0 Okt  3 20:35 a3.dat\r\n",
      "-rw-rw-r-- 1 vagrant vagrant 0 Okt  3 20:35 b1.dat\r\n",
      "-rw-rw-r-- 1 vagrant vagrant 0 Okt  3 20:35 b2.dat\r\n",
      "-rw-rw-r-- 1 vagrant vagrant 0 Okt  3 20:35 b3.dat\r\n",
      "-rw-rw-r-- 1 vagrant vagrant 0 Okt  3 20:35 c1.dat\r\n",
      "-rw-rw-r-- 1 vagrant vagrant 0 Okt  3 20:35 c2.dat\r\n",
      "-rw-rw-r-- 1 vagrant vagrant 0 Okt  3 20:35 c3.dat\r\n"
     ]
    }
   ],
   "source": [
    "touch {a,b,c}{1,2,3}.dat\n",
    "ls -l *.dat"
   ]
  },
  {
   "cell_type": "code",
   "execution_count": 136,
   "metadata": {},
   "outputs": [
    {
     "name": "stdout",
     "output_type": "stream",
     "text": [
      "umsatz\r\n",
      "├── 2016\r\n",
      "│   ├── q1\r\n",
      "│   ├── q2\r\n",
      "│   ├── q3\r\n",
      "│   └── q4\r\n",
      "└── 2017\r\n",
      "    ├── q1\r\n",
      "    ├── q2\r\n",
      "    ├── q3\r\n",
      "    └── q4\r\n",
      "\r\n",
      "10 directories, 0 files\r\n"
     ]
    }
   ],
   "source": [
    "mkdir -p umsatz/201{6,7}/q{1,2,3,4}\n",
    "tree umsatz"
   ]
  },
  {
   "cell_type": "markdown",
   "metadata": {},
   "source": [
    "## Übungen\n",
    "\n",
    "C 6.7 [!1] Im aktuellen Verzeichnis stehen die Dateien\n",
    "\n",
    "* prog.c\n",
    "* p.txt\n",
    "* prog1.c\n",
    "* p1.txt\n",
    "* prog2.c\n",
    "* p21.txt\n",
    "* progabc.c\n",
    "* p22.txt\n",
    "* prog\n",
    "* p22.dat\n",
    "\n",
    "Auf welche dieser Dateinamen passen die Suchmuster\n",
    "\n",
    "    (a) prog*.c, \n",
    "    (b) prog?.c,\n",
    "    (c) p?*.txt, \n",
    "    (d) p[12]*, \n",
    "    (e) p*, \n",
    "    (f) *.*\n",
    "    \n",
    "C 6.8 [!2] Was ist der Unterschied zwischen » ls « und » ls * «? (Tipp: Probieren Sie beides in einem Verzeichnis aus, das Unterverzeichnisse enthält.)\n",
    "\n",
    "C 6.9 [2] Erklären Sie, warum das folgende Kommando zur angezeigten Ausgabe führt:\n",
    "\n",
    "    $ ls\n",
    "    -l datei1 datei2 datei3\n",
    "    $ ls *\n",
    "    -rw-r--r-- 1 hugo users 0 Dec 19 11:24 datei1\n",
    "    -rw-r--r-- 1 hugo users 0 Dec 19 11:24 datei2\n",
    "    -rw-r--r-- 1 hugo users 0 Dec 19 11:24 datei3\n",
    "    \n",
    "C 6.10 [2] Warum ist es sinnvoll, dass » * « nicht auf Dateinamen mit Punkt am Anfang passt?"
   ]
  },
  {
   "cell_type": "markdown",
   "metadata": {},
   "source": [
    "### 6.4.1 Kopieren, Verschieben und Löschen – cp und Verwandte"
   ]
  },
  {
   "cell_type": "code",
   "execution_count": 141,
   "metadata": {},
   "outputs": [
    {
     "name": "stdout",
     "output_type": "stream",
     "text": []
    }
   ],
   "source": [
    "cd ~/data\n",
    "if [ -d kopieren ]; then rm -rf kopieren; fi;\n",
    "mkdir kopieren\n",
    "ls -lisa >> kopieren/liste\n",
    "cd kopieren"
   ]
  },
  {
   "cell_type": "code",
   "execution_count": 142,
   "metadata": {},
   "outputs": [
    {
     "name": "stdout",
     "output_type": "stream",
     "text": [
      "453fa134ee2e98df3dd59576a03ddf45  liste\r\n"
     ]
    }
   ],
   "source": [
    "md5sum liste"
   ]
  },
  {
   "cell_type": "code",
   "execution_count": 143,
   "metadata": {},
   "outputs": [
    {
     "name": "stdout",
     "output_type": "stream",
     "text": [
      "453fa134ee2e98df3dd59576a03ddf45  liste2\r\n"
     ]
    }
   ],
   "source": [
    "cp liste liste2\n",
    "md5sum liste2"
   ]
  },
  {
   "cell_type": "code",
   "execution_count": 146,
   "metadata": {},
   "outputs": [
    {
     "name": "stdout",
     "output_type": "stream",
     "text": [
      "-rw-r--r-- 1 root root 1794 Sep 29 15:39 /etc/passwd\r\n",
      "01e998475cecad34b184592021e55436  /etc/passwd\r\n",
      "insgesamt 12\r\n",
      "-rw-rw-r-- 1 vagrant vagrant 1018 Okt  3 20:43 liste\r\n",
      "-rw-rw-r-- 1 vagrant vagrant 1018 Okt  3 20:44 liste2\r\n",
      "-rw-r--r-- 1 vagrant vagrant 1794 Okt  3  2016 passwd\r\n",
      "01e998475cecad34b184592021e55436  passwd\r\n"
     ]
    }
   ],
   "source": [
    "ls -l /etc/passwd\n",
    "md5sum /etc/passwd\n",
    "cp /etc/passwd .\n",
    "ls -l\n",
    "md5sum passwd"
   ]
  },
  {
   "cell_type": "code",
   "execution_count": 147,
   "metadata": {},
   "outputs": [
    {
     "name": "stdout",
     "output_type": "stream",
     "text": [
      "insgesamt 8\r\n",
      "-rw-rw-r-- 1 vagrant vagrant 1018 Okt  3 20:43 liste\r\n",
      "-rw-r--r-- 1 vagrant vagrant 1794 Okt  3 20:47 liste2\r\n",
      "453fa134ee2e98df3dd59576a03ddf45  liste\r\n",
      "01e998475cecad34b184592021e55436  liste2\r\n"
     ]
    }
   ],
   "source": [
    "mv passwd liste2\n",
    "ls -l\n",
    "md5sum *"
   ]
  },
  {
   "cell_type": "code",
   "execution_count": 148,
   "metadata": {},
   "outputs": [
    {
     "name": "stdout",
     "output_type": "stream",
     "text": []
    }
   ],
   "source": [
    "rm lis*"
   ]
  },
  {
   "cell_type": "code",
   "execution_count": 149,
   "metadata": {},
   "outputs": [
    {
     "name": "stdout",
     "output_type": "stream",
     "text": [
      "insgesamt 0\r\n"
     ]
    }
   ],
   "source": [
    "ls -l"
   ]
  },
  {
   "cell_type": "markdown",
   "metadata": {},
   "source": [
    "## Übungen\n",
    "\n",
    "C 6.11 [!2] Legen Sie in Ihrem Heimatverzeichnis eine Kopie der Datei /etc/services unter dem Namen myservices an. Benennen Sie sie um in srv.dat und kopieren Sie sie unter demselben Namen ins Verzeichnis /tmp. Löschen Sie anschließend beide Kopien der Datei.\n",
    "\n",
    "C 6.12 [1] Warum hat mv keine -R -Option wie cp?\n",
    "\n",
    "C 6.13 [!2] Angenommen, in einem Ihrer Verzeichnisse steht eine Datei namens »- file« (mit einem Minuszeichen am Anfang des Namens). Wie würden Sie diese Datei entfernen?\n",
    "\n",
    "C 6.14 [2] Wenn Sie ein Verzeichnis haben, in dem Sie nicht versehentlich einem »rm *« zum Opfer fallen wollen, können Sie dort eine Datei namens »- i« anlegen, etwa mit $ > -i (wird in Kapitel 7 genauer erklärt). Was passiert, wenn Sie jetzt das Kommando » rm * « ausführen, und warum?"
   ]
  },
  {
   "cell_type": "markdown",
   "metadata": {},
   "source": [
    "## 6.4.2 Dateien verknüpfen – ln und ln -s\n",
    "\n",
    "Eine harte Verknüpfung in einem \"shared Folder\" geht nicht. Daher im Ornder /tmp"
   ]
  },
  {
   "cell_type": "code",
   "execution_count": 178,
   "metadata": {},
   "outputs": [
    {
     "name": "stdout",
     "output_type": "stream",
     "text": []
    }
   ],
   "source": [
    "cd /tmp\n",
    "if [ -d links ]; then rm -rf links; fi;\n",
    "mkdir links\n",
    "ls -lisa >> links/liste\n",
    "cd links"
   ]
  },
  {
   "cell_type": "code",
   "execution_count": 179,
   "metadata": {},
   "outputs": [
    {
     "name": "stdout",
     "output_type": "stream",
     "text": [
      "insgesamt 8\r\n",
      "525353 -rw-rw-r-- 2 vagrant vagrant 1059 Okt  3 21:10 liste\r\n",
      "525353 -rw-rw-r-- 2 vagrant vagrant 1059 Okt  3 21:10 liste2\r\n"
     ]
    }
   ],
   "source": [
    "ln liste liste2\n",
    "ls -li"
   ]
  },
  {
   "cell_type": "code",
   "execution_count": 180,
   "metadata": {},
   "outputs": [
    {
     "name": "stdout",
     "output_type": "stream",
     "text": [
      "insgesamt 4\r\n",
      "525353 -rw-rw-r-- 1 vagrant vagrant 1059 Okt  3 21:10 liste2\r\n"
     ]
    }
   ],
   "source": [
    "rm liste\n",
    "ls -li"
   ]
  },
  {
   "cell_type": "code",
   "execution_count": 181,
   "metadata": {},
   "outputs": [
    {
     "name": "stdout",
     "output_type": "stream",
     "text": []
    }
   ],
   "source": [
    "cd /tmp\n",
    "cp -r ~/data/suchmuster ."
   ]
  },
  {
   "cell_type": "code",
   "execution_count": 182,
   "metadata": {},
   "outputs": [
    {
     "name": "stdout",
     "output_type": "stream",
     "text": [
      "mkdir: das Verzeichnis »suchmuster2“ kann nicht angelegt werden: Die Datei existiert bereits\r\n"
     ]
    }
   ],
   "source": [
    "mkdir suchmuster2\n",
    "cp -l suchmuster/* suchmuster2"
   ]
  },
  {
   "cell_type": "code",
   "execution_count": 183,
   "metadata": {},
   "outputs": [
    {
     "name": "stdout",
     "output_type": "stream",
     "text": [
      "suchmuster:\r\n",
      "insgesamt 0\r\n",
      "525400 -rw-rw-r-- 2 vagrant vagrant 0 Okt  3 21:10 a1.txt\r\n",
      "525415 -rw-rw-r-- 2 vagrant vagrant 0 Okt  3 21:10 a2.txt\r\n",
      "525394 -rw-rw-r-- 2 vagrant vagrant 0 Okt  3 21:10 a3.txt\r\n",
      "525409 -rw-rw-r-- 2 vagrant vagrant 0 Okt  3 21:10 b1.txt\r\n",
      "525417 -rw-rw-r-- 2 vagrant vagrant 0 Okt  3 21:10 b2.txt\r\n",
      "525369 -rw-rw-r-- 2 vagrant vagrant 0 Okt  3 21:10 b3.txt\r\n",
      "525381 -rw-rw-r-- 2 vagrant vagrant 0 Okt  3 21:10 blau.txt\r\n",
      "525361 -rw-rw-r-- 2 vagrant vagrant 0 Okt  3 21:10 c1.txt\r\n",
      "525399 -rw-rw-r-- 2 vagrant vagrant 0 Okt  3 21:10 c2.txt\r\n",
      "525375 -rw-rw-r-- 2 vagrant vagrant 0 Okt  3 21:10 c3.txt\r\n",
      "525398 -rw-rw-r-- 2 vagrant vagrant 0 Okt  3 21:10 gelb.txt\r\n",
      "525407 -rw-rw-r-- 2 vagrant vagrant 0 Okt  3 21:10 p1.c\r\n",
      "525378 -rw-rw-r-- 2 vagrant vagrant 0 Okt  3 21:10 p1.txt\r\n",
      "525412 -rw-rw-r-- 2 vagrant vagrant 0 Okt  3 21:10 p21.txt\r\n",
      "525374 -rw-rw-r-- 2 vagrant vagrant 0 Okt  3 21:10 p22.dat\r\n",
      "525385 -rw-rw-r-- 2 vagrant vagrant 0 Okt  3 21:10 p22.txt\r\n",
      "525379 -rw-rw-r-- 2 vagrant vagrant 0 Okt  3 21:10 p2.c\r\n",
      "525364 -rw-rw-r-- 2 vagrant vagrant 0 Okt  3 21:10 p3.c\r\n",
      "525357 -rw-rw-r-- 2 vagrant vagrant 0 Okt  3 21:10 p4.c\r\n",
      "525414 -rw-rw-r-- 2 vagrant vagrant 0 Okt  3 21:10 pa.c\r\n",
      "525402 -rw-rw-r-- 2 vagrant vagrant 0 Okt  3 21:10 paulchen.c\r\n",
      "525359 -rw-rw-r-- 2 vagrant vagrant 0 Okt  3 21:10 p-.c\r\n",
      "525408 -rw-rw-r-- 2 vagrant vagrant 0 Okt  3 21:10 p.c\r\n",
      "525410 -rw-rw-r-- 2 vagrant vagrant 0 Okt  3 21:10 p..c\r\n",
      "525396 -rw-rw-r-- 2 vagrant vagrant 0 Okt  3 21:10 pop-rock.c\r\n",
      "525386 -rw-rw-r-- 2 vagrant vagrant 0 Okt  3 21:10 prog\r\n",
      "525395 -rw-rw-r-- 2 vagrant vagrant 0 Okt  3 21:10 prog12.c\r\n",
      "525413 -rw-rw-r-- 2 vagrant vagrant 0 Okt  3 21:10 prog13.c\r\n",
      "525404 -rw-rw-r-- 2 vagrant vagrant 0 Okt  3 21:10 prog1.c\r\n",
      "525411 -rw-rw-r-- 2 vagrant vagrant 0 Okt  3 21:10 prog2.c\r\n",
      "525416 -rw-rw-r-- 2 vagrant vagrant 0 Okt  3 21:10 prog3.c\r\n",
      "525397 -rw-rw-r-- 2 vagrant vagrant 0 Okt  3 21:10 prog4.c\r\n",
      "525367 -rw-rw-r-- 2 vagrant vagrant 0 Okt  3 21:10 prog5.c\r\n",
      "525392 -rw-rw-r-- 2 vagrant vagrant 0 Okt  3 21:10 progabc.c\r\n",
      "525403 -rw-rw-r-- 2 vagrant vagrant 0 Okt  3 21:10 prog_.c\r\n",
      "525382 -rw-rw-r-- 2 vagrant vagrant 0 Okt  3 21:10 prog-.c\r\n",
      "525372 -rw-rw-r-- 2 vagrant vagrant 0 Okt  3 21:10 prog:.c\r\n",
      "525376 -rw-rw-r-- 2 vagrant vagrant 0 Okt  3 21:10 prog.c\r\n",
      "525371 -rw-rw-r-- 2 vagrant vagrant 0 Okt  3 21:10 prog+.c\r\n",
      "525387 -rw-rw-r-- 2 vagrant vagrant 0 Okt  3 21:10 progQ.c\r\n",
      "525377 -rw-rw-r-- 2 vagrant vagrant 0 Okt  3 21:10 progx.c\r\n",
      "525401 -rw-rw-r-- 2 vagrant vagrant 0 Okt  3 21:10 p.txt\r\n",
      "525406 -rw-rw-r-- 2 vagrant vagrant 0 Okt  3 21:10 rot.txt\r\n",
      "525405 -rw-rw-r-- 2 vagrant vagrant 0 Okt  3 21:10 untitled.txt\r\n",
      "\r\n",
      "suchmuster2:\r\n",
      "insgesamt 0\r\n",
      "525400 -rw-rw-r-- 2 vagrant vagrant 0 Okt  3 21:10 a1.txt\r\n",
      "525415 -rw-rw-r-- 2 vagrant vagrant 0 Okt  3 21:10 a2.txt\r\n",
      "525394 -rw-rw-r-- 2 vagrant vagrant 0 Okt  3 21:10 a3.txt\r\n",
      "525409 -rw-rw-r-- 2 vagrant vagrant 0 Okt  3 21:10 b1.txt\r\n",
      "525417 -rw-rw-r-- 2 vagrant vagrant 0 Okt  3 21:10 b2.txt\r\n",
      "525369 -rw-rw-r-- 2 vagrant vagrant 0 Okt  3 21:10 b3.txt\r\n",
      "525381 -rw-rw-r-- 2 vagrant vagrant 0 Okt  3 21:10 blau.txt\r\n",
      "525361 -rw-rw-r-- 2 vagrant vagrant 0 Okt  3 21:10 c1.txt\r\n",
      "525399 -rw-rw-r-- 2 vagrant vagrant 0 Okt  3 21:10 c2.txt\r\n",
      "525375 -rw-rw-r-- 2 vagrant vagrant 0 Okt  3 21:10 c3.txt\r\n",
      "525398 -rw-rw-r-- 2 vagrant vagrant 0 Okt  3 21:10 gelb.txt\r\n",
      "525407 -rw-rw-r-- 2 vagrant vagrant 0 Okt  3 21:10 p1.c\r\n",
      "525378 -rw-rw-r-- 2 vagrant vagrant 0 Okt  3 21:10 p1.txt\r\n",
      "525412 -rw-rw-r-- 2 vagrant vagrant 0 Okt  3 21:10 p21.txt\r\n",
      "525374 -rw-rw-r-- 2 vagrant vagrant 0 Okt  3 21:10 p22.dat\r\n",
      "525385 -rw-rw-r-- 2 vagrant vagrant 0 Okt  3 21:10 p22.txt\r\n",
      "525379 -rw-rw-r-- 2 vagrant vagrant 0 Okt  3 21:10 p2.c\r\n",
      "525364 -rw-rw-r-- 2 vagrant vagrant 0 Okt  3 21:10 p3.c\r\n",
      "525357 -rw-rw-r-- 2 vagrant vagrant 0 Okt  3 21:10 p4.c\r\n",
      "525414 -rw-rw-r-- 2 vagrant vagrant 0 Okt  3 21:10 pa.c\r\n",
      "525402 -rw-rw-r-- 2 vagrant vagrant 0 Okt  3 21:10 paulchen.c\r\n",
      "525359 -rw-rw-r-- 2 vagrant vagrant 0 Okt  3 21:10 p-.c\r\n",
      "525408 -rw-rw-r-- 2 vagrant vagrant 0 Okt  3 21:10 p.c\r\n",
      "525410 -rw-rw-r-- 2 vagrant vagrant 0 Okt  3 21:10 p..c\r\n",
      "525396 -rw-rw-r-- 2 vagrant vagrant 0 Okt  3 21:10 pop-rock.c\r\n",
      "525386 -rw-rw-r-- 2 vagrant vagrant 0 Okt  3 21:10 prog\r\n",
      "525395 -rw-rw-r-- 2 vagrant vagrant 0 Okt  3 21:10 prog12.c\r\n",
      "525413 -rw-rw-r-- 2 vagrant vagrant 0 Okt  3 21:10 prog13.c\r\n",
      "525404 -rw-rw-r-- 2 vagrant vagrant 0 Okt  3 21:10 prog1.c\r\n",
      "525411 -rw-rw-r-- 2 vagrant vagrant 0 Okt  3 21:10 prog2.c\r\n",
      "525416 -rw-rw-r-- 2 vagrant vagrant 0 Okt  3 21:10 prog3.c\r\n",
      "525397 -rw-rw-r-- 2 vagrant vagrant 0 Okt  3 21:10 prog4.c\r\n",
      "525367 -rw-rw-r-- 2 vagrant vagrant 0 Okt  3 21:10 prog5.c\r\n",
      "525392 -rw-rw-r-- 2 vagrant vagrant 0 Okt  3 21:10 progabc.c\r\n",
      "525403 -rw-rw-r-- 2 vagrant vagrant 0 Okt  3 21:10 prog_.c\r\n",
      "525382 -rw-rw-r-- 2 vagrant vagrant 0 Okt  3 21:10 prog-.c\r\n",
      "525372 -rw-rw-r-- 2 vagrant vagrant 0 Okt  3 21:10 prog:.c\r\n",
      "525376 -rw-rw-r-- 2 vagrant vagrant 0 Okt  3 21:10 prog.c\r\n",
      "525371 -rw-rw-r-- 2 vagrant vagrant 0 Okt  3 21:10 prog+.c\r\n",
      "525387 -rw-rw-r-- 2 vagrant vagrant 0 Okt  3 21:10 progQ.c\r\n",
      "525377 -rw-rw-r-- 2 vagrant vagrant 0 Okt  3 21:10 progx.c\r\n",
      "525401 -rw-rw-r-- 2 vagrant vagrant 0 Okt  3 21:10 p.txt\r\n",
      "525406 -rw-rw-r-- 2 vagrant vagrant 0 Okt  3 21:10 rot.txt\r\n",
      "525405 -rw-rw-r-- 2 vagrant vagrant 0 Okt  3 21:10 untitled.txt\r\n"
     ]
    }
   ],
   "source": [
    "ls -li suchmuster*"
   ]
  },
  {
   "cell_type": "code",
   "execution_count": 188,
   "metadata": {},
   "outputs": [
    {
     "name": "stdout",
     "output_type": "stream",
     "text": [
      "insgesamt 56\r\n",
      "drwxrwxr-x 2 vagrant vagrant  4096 Okt  3 20:57 kopieren\r\n",
      "lrwxrwxrwx 1 vagrant vagrant     8 Okt  3 21:12 kurz -> /var/log\r\n",
      "drwxrwxr-x 2 vagrant vagrant  4096 Okt  3 21:10 links\r\n",
      "srwx------ 1 mongodb mongodb     0 Okt  3 15:52 mongodb-27017.sock\r\n",
      "drwxrwxr-x 3 vagrant vagrant  4096 Okt  3 21:02 suchmuster\r\n",
      "drwxrwxr-x 2 vagrant vagrant  4096 Okt  3 21:04 suchmuster2\r\n",
      "-rw------- 1 vagrant vagrant 39254 Okt  3 16:37 tutorzXPJKb\r\n"
     ]
    }
   ],
   "source": [
    "ln -s /var/log kurz\n",
    "ls -l"
   ]
  },
  {
   "cell_type": "code",
   "execution_count": 189,
   "metadata": {},
   "outputs": [
    {
     "name": "stdout",
     "output_type": "stream",
     "text": [
      "/tmp/kurz\r\n"
     ]
    }
   ],
   "source": [
    "cd kurz\n",
    "pwd"
   ]
  },
  {
   "cell_type": "code",
   "execution_count": 190,
   "metadata": {},
   "outputs": [
    {
     "name": "stdout",
     "output_type": "stream",
     "text": [
      "/var/log\r\n"
     ]
    }
   ],
   "source": [
    "pwd -P"
   ]
  },
  {
   "cell_type": "code",
   "execution_count": 191,
   "metadata": {},
   "outputs": [
    {
     "name": "stdout",
     "output_type": "stream",
     "text": [
      "alternatives.log  faillog         mysql.err\r\n",
      "apt               fontconfig.log  nginx\r\n",
      "auth.log          fsck            php7.0-fpm.log\r\n",
      "bootstrap.log     installer       syslog\r\n",
      "btmp              kern.log        unattended-upgrades\r\n",
      "dbconfig-common   lastlog         vboxadd-install-x11.log\r\n",
      "dist-upgrade      lxd             VBoxGuestAdditions.log\r\n",
      "dmesg             mongodb         VBoxGuestAdditions-uninstall.log\r\n",
      "dpkg.log          mysql           wtmp\r\n"
     ]
    }
   ],
   "source": [
    "cd /tmp\n",
    "ls kurz"
   ]
  },
  {
   "cell_type": "code",
   "execution_count": 192,
   "metadata": {},
   "outputs": [
    {
     "name": "stdout",
     "output_type": "stream",
     "text": [
      "lrwxrwxrwx 1 vagrant vagrant 8 Okt  3 21:12 kurz -> /var/log\r\n"
     ]
    }
   ],
   "source": [
    "ls -l kurz"
   ]
  },
  {
   "cell_type": "code",
   "execution_count": 193,
   "metadata": {},
   "outputs": [
    {
     "name": "stdout",
     "output_type": "stream",
     "text": [
      "lrwxrwxrwx 1 vagrant vagrant 8 Okt  3 21:12 kurz -> /var/log\r\n"
     ]
    }
   ],
   "source": [
    "ls -ld kurz"
   ]
  },
  {
   "cell_type": "code",
   "execution_count": 194,
   "metadata": {},
   "outputs": [
    {
     "name": "stdout",
     "output_type": "stream",
     "text": [
      "insgesamt 56\r\n",
      "drwxrwxr-x 2 vagrant vagrant  4096 Okt  3 20:57 kopieren\r\n",
      "drwxrwxr-x 2 vagrant vagrant  4096 Okt  3 21:10 links\r\n",
      "srwx------ 1 mongodb mongodb     0 Okt  3 15:52 mongodb-27017.sock\r\n",
      "drwxrwxr-x 3 vagrant vagrant  4096 Okt  3 21:02 suchmuster\r\n",
      "drwxrwxr-x 2 vagrant vagrant  4096 Okt  3 21:04 suchmuster2\r\n",
      "-rw------- 1 vagrant vagrant 39254 Okt  3 16:37 tutorzXPJKb\r\n"
     ]
    }
   ],
   "source": [
    "rm kurz\n",
    "ls -l"
   ]
  },
  {
   "cell_type": "code",
   "execution_count": 195,
   "metadata": {},
   "outputs": [
    {
     "name": "stdout",
     "output_type": "stream",
     "text": [
      "insgesamt 4\r\n",
      "-rw-rw-r-- 1 vagrant vagrant 10 Okt  3 21:15 datei\r\n",
      "lrwxrwxrwx 1 vagrant vagrant  5 Okt  3 21:15 symlink -> datei\r\n"
     ]
    }
   ],
   "source": [
    "mkdir dir\n",
    "echo XXXXXXXXX > dir/datei\n",
    "ln -s datei dir/symlink\n",
    "ls -l dir"
   ]
  },
  {
   "cell_type": "code",
   "execution_count": 196,
   "metadata": {},
   "outputs": [
    {
     "name": "stdout",
     "output_type": "stream",
     "text": [
      "insgesamt 8\r\n",
      "-rw-rw-r-- 1 vagrant vagrant 10 Okt  3 21:15 datei\r\n",
      "-rw-rw-r-- 1 vagrant vagrant 10 Okt  3 21:15 symlink\r\n"
     ]
    }
   ],
   "source": [
    "ls -lL dir"
   ]
  },
  {
   "cell_type": "code",
   "execution_count": 197,
   "metadata": {},
   "outputs": [
    {
     "name": "stdout",
     "output_type": "stream",
     "text": [
      "insgesamt 4\r\n",
      "-rw-rw-r-- 1 vagrant vagrant 10 Okt  3 21:15 datei\r\n",
      "lrwxrwxrwx 1 vagrant vagrant  5 Okt  3 21:15 symlink -> datei\r\n"
     ]
    }
   ],
   "source": [
    "ls -lH dir"
   ]
  },
  {
   "cell_type": "code",
   "execution_count": 198,
   "metadata": {},
   "outputs": [
    {
     "name": "stdout",
     "output_type": "stream",
     "text": [
      "lrwxrwxrwx 1 vagrant vagrant 5 Okt  3 21:15 dir/symlink -> datei\r\n"
     ]
    }
   ],
   "source": [
    "ls -l dir/symlink"
   ]
  },
  {
   "cell_type": "code",
   "execution_count": 199,
   "metadata": {},
   "outputs": [
    {
     "name": "stdout",
     "output_type": "stream",
     "text": [
      "-rw-rw-r-- 1 vagrant vagrant 10 Okt  3 21:15 dir/symlink\r\n"
     ]
    }
   ],
   "source": [
    "ls -lH dir/symlink"
   ]
  },
  {
   "cell_type": "markdown",
   "metadata": {},
   "source": [
    "## Übungen\n",
    "\n",
    "C 6.15 [!2] Erzeugen Sie eine Datei mit beliebigem Inhalt in Ihrem Heimatverzeichnis (etwa mit » echo Hallo >~/hallo « oder einem Texteditor). Legen Sie unter dem Namen link ein hartes Link auf die Datei an. Überzeugen Sie sich, dass nun zwei Namen für die Datei existieren. Versuchen Sie den Dateiinhalt mit einem Editor zu ändern. Was passiert?\n",
    "\n",
    "C 6.16 [!2] Legen Sie unter dem Namen ~/symlink ein symbolisches Link auf die Datei aus der vorigen Aufgabe an. Prüfen Sie, ob der Zugriff funktioniert. Was passiert, wenn Sie die Zieldatei des Links löschen?\n",
    "\n",
    "C 6.17 [!2] Auf welches Verzeichnis zeigt das ..-Link im Verzeichnis »/«?\n",
    "\n",
    "C 6.18 [3] Betrachten Sie das folgende Kommando und seine Ausgabe:\n",
    "\n",
    "    $ ls -ai /\n",
    "    2      .        330211  etc    1       proc   4303 var\n",
    "    2      ..       2       home   65153   root\n",
    "    4833   bin      244322  lib    313777  sbin\n",
    "    228033 boot     460935  mnt    244321  tmp\n",
    "    330625 dev      460940  opt    390938  usr\n",
    "\n",
    "Offensichtlich haben die Verzeichnisse / und /home dieselbe Inodenummer. Da es sich dabei offensichtlich nicht wirklich um dasselbe Verzeichnis handeln kann – können Sie dieses Phänomen erklären?\n",
    "\n",
    "C 6.19 [2] Betrachten Sie die Inode-Nummern der Links » . « und » .. « im Wurzelverzeichnis ( / ) und in einigen beliebigen anderen Verzeichnissen. Was fällt Ihnen auf?\n",
    "\n",
    "C 6.20 [3] Wir haben gesagt, dass harte Links auf Verzeichnisse nicht erlaubt sind. Welchen Grund könnte es dafür geben?\n",
    "\n",
    "C 6.21 [3] Woran erkennt man in der Ausgabe von » ls -l ~ «, dass ein Unterverzeichnis von ~ keine weiteren Unterverzeichnisse hat?\n",
    "\n",
    "C 6.22 [2] Wie verhalten sich » ls -lH « und » ls -lL «, wenn ein symbolisches Link auf ein anderes symbolisches Link zeigt?"
   ]
  },
  {
   "cell_type": "markdown",
   "metadata": {},
   "source": [
    "### 6.4.4 Dateien suchen - find"
   ]
  },
  {
   "cell_type": "code",
   "execution_count": 202,
   "metadata": {},
   "outputs": [
    {
     "name": "stdout",
     "output_type": "stream",
     "text": [
      "./root_was_here\r\n"
     ]
    }
   ],
   "source": [
    "cd\n",
    "sudo touch root_was_here\n",
    "find . -user root -print"
   ]
  },
  {
   "cell_type": "code",
   "execution_count": 203,
   "metadata": {},
   "outputs": [
    {
     "name": "stdout",
     "output_type": "stream",
     "text": [
      "-rw-r--r-- 1 root root 0 Okt  3 21:30 ./root_was_here\r\n"
     ]
    }
   ],
   "source": [
    "find . -user root -exec ls -l '{}' \\;"
   ]
  },
  {
   "cell_type": "code",
   "execution_count": 204,
   "metadata": {},
   "outputs": [
    {
     "name": "stdout",
     "output_type": "stream",
     "text": [
      "-rw-rw-r-- 1 vagrant vagrant 182 Sep 12 16:32 ./.wget-hsts\r\n",
      "-rw-r--r-- 1 vagrant vagrant 0 Sep 12 16:18 ./.cache/motd.legal-displayed\r\n",
      "-rw-r--r-- 1 vagrant vagrant 0 Sep 12 16:19 ./.sudo_as_admin_successful\r\n"
     ]
    }
   ],
   "source": [
    "find . -atime +13 -exec ls -l '{}' \\;"
   ]
  },
  {
   "cell_type": "markdown",
   "metadata": {},
   "source": [
    "## Übungen\n",
    "\n",
    "C 6.25 [!2] Finden Sie alle Dateien in Ihrem System, die größer als 1 MiB sind, und lassen Sie deren Namen ausgeben.\n",
    "\n",
    "C 6.26 [2] Wie können Sie find benutzen, um eine Datei zu löschen, die einen merkwürdigen Namen hat (etwa mit unsichtbaren Kontrollzeichen oder mit Umlauten, die von älteren Shells nicht verstanden werden)?\n",
    "\n",
    "C 6.27 [3] (Beim zweiten Durcharbeiten.) Wie würden Sie beim Abmelden dafür sorgen, dass etwaige Dateien in /tmp , die Ihnen gehören, automatisch gelöscht werden?"
   ]
  },
  {
   "cell_type": "markdown",
   "metadata": {},
   "source": [
    "### 6.4.5 Datei schnell finden - locate un slocate"
   ]
  },
  {
   "cell_type": "code",
   "execution_count": 205,
   "metadata": {},
   "outputs": [
    {
     "name": "stdout",
     "output_type": "stream",
     "text": [
      "/usr/bin/debconf-apt-progress\r\n",
      "/usr/lib/python3/dist-packages/apt/progress\r\n",
      "/usr/lib/python3/dist-packages/apt/progress/__init__.py\r\n",
      "/usr/lib/python3/dist-packages/apt/progress/__pycache__\r\n",
      "/usr/lib/python3/dist-packages/apt/progress/base.py\r\n",
      "/usr/lib/python3/dist-packages/apt/progress/text.py\r\n",
      "/usr/lib/python3/dist-packages/apt/progress/__pycache__/__init__.cpython-35.pyc\r\n",
      "/usr/lib/python3/dist-packages/apt/progress/__pycache__/base.cpython-35.pyc\r\n",
      "/usr/lib/python3/dist-packages/apt/progress/__pycache__/text.cpython-35.pyc\r\n",
      "/usr/lib/rsyslog/omprog.so\r\n",
      "/usr/share/command-not-found/programs.d\r\n",
      "/usr/share/command-not-found/programs.d/all-main.db\r\n",
      "/usr/share/command-not-found/programs.d/all-multiverse.db\r\n",
      "/usr/share/command-not-found/programs.d/all-universe.db\r\n",
      "/usr/share/command-not-found/programs.d/amd64-main.db\r\n",
      "/usr/share/command-not-found/programs.d/amd64-multiverse.db\r\n",
      "/usr/share/command-not-found/programs.d/amd64-restricted.db\r\n",
      "/usr/share/command-not-found/programs.d/amd64-universe.db\r\n",
      "/usr/share/doc/e2fsprogs\r\n",
      "/usr/share/doc/xfsprogs\r\n",
      "/usr/share/doc/e2fsprogs/README\r\n",
      "/usr/share/doc/e2fsprogs/RELEASE-NOTES.gz\r\n",
      "/usr/share/doc/e2fsprogs/changelog.Debian.gz\r\n",
      "/usr/share/doc/e2fsprogs/copyright\r\n",
      "/usr/share/doc/gawk/examples/prog\r\n",
      "/usr/share/doc/gawk/examples/prog/alarm.awk\r\n",
      "/usr/share/doc/gawk/examples/prog/anagram.awk\r\n",
      "/usr/share/doc/gawk/examples/prog/awksed.awk\r\n",
      "/usr/share/doc/gawk/examples/prog/cut.awk\r\n",
      "/usr/share/doc/gawk/examples/prog/dupword.awk\r\n",
      "/usr/share/doc/gawk/examples/prog/egrep.awk\r\n",
      "/usr/share/doc/gawk/examples/prog/extract.awk\r\n",
      "/usr/share/doc/gawk/examples/prog/guide.awk\r\n",
      "/usr/share/doc/gawk/examples/prog/histsort.awk\r\n",
      "/usr/share/doc/gawk/examples/prog/id.awk\r\n",
      "/usr/share/doc/gawk/examples/prog/igawk.sh\r\n",
      "/usr/share/doc/gawk/examples/prog/indirectcall.awk\r\n",
      "/usr/share/doc/gawk/examples/prog/labels.awk\r\n",
      "/usr/share/doc/gawk/examples/prog/split.awk\r\n",
      "/usr/share/doc/gawk/examples/prog/tee.awk\r\n",
      "/usr/share/doc/gawk/examples/prog/testbits.awk\r\n",
      "/usr/share/doc/gawk/examples/prog/translate.awk\r\n",
      "/usr/share/doc/gawk/examples/prog/uniq.awk\r\n",
      "/usr/share/doc/gawk/examples/prog/wc.awk\r\n",
      "/usr/share/doc/gawk/examples/prog/wordfreq.awk\r\n",
      "/usr/share/doc/xfsprogs/CREDITS\r\n",
      "/usr/share/doc/xfsprogs/README\r\n",
      "/usr/share/doc/xfsprogs/changelog.Debian.gz\r\n",
      "/usr/share/doc/xfsprogs/copyright\r\n",
      "/usr/share/locale/ca/LC_MESSAGES/e2fsprogs.mo\r\n",
      "/usr/share/locale/cs/LC_MESSAGES/e2fsprogs.mo\r\n",
      "/usr/share/locale/da/LC_MESSAGES/e2fsprogs.mo\r\n",
      "/usr/share/locale/de/LC_MESSAGES/e2fsprogs.mo\r\n",
      "/usr/share/locale/eo/LC_MESSAGES/e2fsprogs.mo\r\n",
      "/usr/share/locale/es/LC_MESSAGES/e2fsprogs.mo\r\n",
      "/usr/share/locale/fr/LC_MESSAGES/e2fsprogs.mo\r\n",
      "/usr/share/locale/id/LC_MESSAGES/e2fsprogs.mo\r\n",
      "/usr/share/locale/it/LC_MESSAGES/e2fsprogs.mo\r\n",
      "/usr/share/locale/nl/LC_MESSAGES/e2fsprogs.mo\r\n",
      "/usr/share/locale/pl/LC_MESSAGES/e2fsprogs.mo\r\n",
      "/usr/share/locale/sv/LC_MESSAGES/e2fsprogs.mo\r\n",
      "/usr/share/locale/tr/LC_MESSAGES/e2fsprogs.mo\r\n",
      "/usr/share/locale/uk/LC_MESSAGES/e2fsprogs.mo\r\n",
      "/usr/share/locale/vi/LC_MESSAGES/e2fsprogs.mo\r\n",
      "/usr/share/locale/zh_CN/LC_MESSAGES/e2fsprogs.mo\r\n",
      "/usr/share/locale-langpack/de/LC_MESSAGES/e2fsprogs.mo\r\n",
      "/usr/share/locale-langpack/de/LC_MESSAGES/xfsprogs.mo\r\n",
      "/usr/share/locale-langpack/en_AU/LC_MESSAGES/e2fsprogs.mo\r\n",
      "/usr/share/locale-langpack/en_AU/LC_MESSAGES/xfsprogs.mo\r\n",
      "/usr/share/locale-langpack/en_GB/LC_MESSAGES/e2fsprogs.mo\r\n",
      "/usr/share/locale-langpack/en_GB/LC_MESSAGES/xfsprogs.mo\r\n",
      "/usr/share/man/de/man1/debconf-apt-progress.1.gz\r\n",
      "/usr/share/man/es/man1/debconf-apt-progress.1.gz\r\n",
      "/usr/share/man/fr/man1/debconf-apt-progress.1.gz\r\n",
      "/usr/share/man/man1/debconf-apt-progress.1.gz\r\n",
      "/usr/share/man/man8/ntfsprogs.8.gz\r\n",
      "/usr/share/man/pt/man1/debconf-apt-progress.1.gz\r\n",
      "/usr/share/man/ru/man1/debconf-apt-progress.1.gz\r\n",
      "/usr/share/vim/vim74/syntax/progress.vim\r\n",
      "/var/lib/dpkg/info/e2fsprogs.conffiles\r\n",
      "/var/lib/dpkg/info/e2fsprogs.list\r\n",
      "/var/lib/dpkg/info/e2fsprogs.md5sums\r\n",
      "/var/lib/dpkg/info/e2fsprogs.preinst\r\n",
      "/var/lib/dpkg/info/xfsprogs.list\r\n",
      "/var/lib/dpkg/info/xfsprogs.md5sums\r\n",
      "/var/lib/dpkg/info/xfsprogs.postinst\r\n",
      "/var/lib/dpkg/info/xfsprogs.shlibs\r\n",
      "/var/lib/dpkg/info/xfsprogs.triggers\r\n"
     ]
    }
   ],
   "source": [
    "locate prog"
   ]
  },
  {
   "cell_type": "code",
   "execution_count": 207,
   "metadata": {},
   "outputs": [
    {
     "name": "stdout",
     "output_type": "stream",
     "text": []
    }
   ],
   "source": [
    "sudo updatedb"
   ]
  },
  {
   "cell_type": "code",
   "execution_count": 208,
   "metadata": {},
   "outputs": [
    {
     "name": "stdout",
     "output_type": "stream",
     "text": [
      "/boot/grub/i386-pc/progress.mod\r\n",
      "/home/vagrant/.gem/ruby/2.3.0/gems/pry-0.10.4/lib/pry/commands/exit_program.rb\r\n",
      "/home/vagrant/data/suchmuster/prog\r\n",
      "/home/vagrant/data/suchmuster/prog+.c\r\n",
      "/home/vagrant/data/suchmuster/prog-.c\r\n",
      "/home/vagrant/data/suchmuster/prog.c\r\n",
      "/home/vagrant/data/suchmuster/prog1.c\r\n",
      "/home/vagrant/data/suchmuster/prog12.c\r\n",
      "/home/vagrant/data/suchmuster/prog13.c\r\n",
      "/home/vagrant/data/suchmuster/prog2.c\r\n",
      "/home/vagrant/data/suchmuster/prog3.c\r\n",
      "/home/vagrant/data/suchmuster/prog4.c\r\n",
      "/home/vagrant/data/suchmuster/prog5.c\r\n",
      "/home/vagrant/data/suchmuster/prog:.c\r\n",
      "/home/vagrant/data/suchmuster/progQ.c\r\n",
      "/home/vagrant/data/suchmuster/prog_.c\r\n",
      "/home/vagrant/data/suchmuster/progabc.c\r\n",
      "/home/vagrant/data/suchmuster/progx.c\r\n",
      "/usr/bin/debconf-apt-progress\r\n",
      "/usr/lib/gcc/x86_64-linux-gnu/5/include/cilk/metaprogramming.h\r\n",
      "/usr/lib/grub/i386-pc/progress.mod\r\n",
      "/usr/lib/node_modules/npm/node_modules/ansi/examples/progress\r\n",
      "/usr/lib/node_modules/npm/node_modules/ansi/examples/progress/index.js\r\n",
      "/usr/lib/node_modules/npm/node_modules/nopt/examples/my-program.js\r\n",
      "/usr/lib/node_modules/npm/node_modules/npmlog/node_modules/gauge/progress-bar.js\r\n",
      "/usr/lib/python2.7/dist-packages/apt/progress\r\n",
      "/usr/lib/python2.7/dist-packages/apt/progress/__init__.py\r\n",
      "/usr/lib/python2.7/dist-packages/apt/progress/__init__.pyc\r\n",
      "/usr/lib/python2.7/dist-packages/apt/progress/base.py\r\n",
      "/usr/lib/python2.7/dist-packages/apt/progress/base.pyc\r\n",
      "/usr/lib/python2.7/dist-packages/apt/progress/text.py\r\n",
      "/usr/lib/python2.7/dist-packages/apt/progress/text.pyc\r\n",
      "/usr/lib/python3/dist-packages/apt/progress\r\n",
      "/usr/lib/python3/dist-packages/apt/progress/__init__.py\r\n",
      "/usr/lib/python3/dist-packages/apt/progress/__pycache__\r\n",
      "/usr/lib/python3/dist-packages/apt/progress/base.py\r\n",
      "/usr/lib/python3/dist-packages/apt/progress/text.py\r\n",
      "/usr/lib/python3/dist-packages/apt/progress/__pycache__/__init__.cpython-35.pyc\r\n",
      "/usr/lib/python3/dist-packages/apt/progress/__pycache__/base.cpython-35.pyc\r\n",
      "/usr/lib/python3/dist-packages/apt/progress/__pycache__/text.cpython-35.pyc\r\n",
      "/usr/lib/rsyslog/omprog.so\r\n",
      "/usr/lib/ruby/vendor_ruby/rspec/core/formatters/bisect_progress_formatter.rb\r\n",
      "/usr/lib/ruby/vendor_ruby/rspec/core/formatters/progress_formatter.rb\r\n",
      "/usr/local/lib/npm/lib/node_modules/node-red/node_modules/node-red-node-serialport/node_modules/serialport/node_modules/ansi/examples/progress\r\n",
      "/usr/local/lib/npm/lib/node_modules/node-red/node_modules/node-red-node-serialport/node_modules/serialport/node_modules/ansi/examples/progress/index.js\r\n",
      "/usr/local/lib/npm/lib/node_modules/node-red/node_modules/node-red-node-serialport/node_modules/serialport/node_modules/gauge/progress-bar.js\r\n",
      "/usr/local/lib/npm/lib/node_modules/node-red/node_modules/node-red-node-serialport/node_modules/serialport/node_modules/gauge/test/progress-bar.js\r\n",
      "/usr/local/lib/npm/lib/node_modules/node-red/node_modules/node-red-node-serialport/node_modules/serialport/node_modules/nopt/examples/my-program.js\r\n",
      "/usr/local/lib/npm/lib/node_modules/node-red/node_modules/node-red-node-serialport/node_modules/serialport/node_modules/npmlog/test/progress.js\r\n",
      "/usr/local/lib/npm/lib/node_modules/node-red/node_modules/nopt/examples/my-program.js\r\n",
      "/usr/local/lib/npm/lib/node_modules/node-red/node_modules/when/lib/decorators/progress.js\r\n",
      "/usr/local/lib/python2.7/dist-packages/compose/progress_stream.py\r\n",
      "/usr/local/lib/python2.7/dist-packages/compose/progress_stream.pyc\r\n",
      "/usr/local/lib/python2.7/dist-packages/pip/_vendor/progress\r\n",
      "/usr/local/lib/python2.7/dist-packages/pip/_vendor/progress/__init__.py\r\n",
      "/usr/local/lib/python2.7/dist-packages/pip/_vendor/progress/__init__.pyc\r\n",
      "/usr/local/lib/python2.7/dist-packages/pip/_vendor/progress/bar.py\r\n",
      "/usr/local/lib/python2.7/dist-packages/pip/_vendor/progress/bar.pyc\r\n",
      "/usr/local/lib/python2.7/dist-packages/pip/_vendor/progress/counter.py\r\n",
      "/usr/local/lib/python2.7/dist-packages/pip/_vendor/progress/counter.pyc\r\n",
      "/usr/local/lib/python2.7/dist-packages/pip/_vendor/progress/helpers.py\r\n",
      "/usr/local/lib/python2.7/dist-packages/pip/_vendor/progress/helpers.pyc\r\n",
      "/usr/local/lib/python2.7/dist-packages/pip/_vendor/progress/spinner.py\r\n",
      "/usr/local/lib/python2.7/dist-packages/pip/_vendor/progress/spinner.pyc\r\n",
      "/usr/share/command-not-found/programs.d\r\n",
      "/usr/share/command-not-found/programs.d/all-main.db\r\n",
      "/usr/share/command-not-found/programs.d/all-multiverse.db\r\n",
      "/usr/share/command-not-found/programs.d/all-universe.db\r\n",
      "/usr/share/command-not-found/programs.d/amd64-main.db\r\n",
      "/usr/share/command-not-found/programs.d/amd64-multiverse.db\r\n",
      "/usr/share/command-not-found/programs.d/amd64-restricted.db\r\n",
      "/usr/share/command-not-found/programs.d/amd64-universe.db\r\n",
      "/usr/share/doc/e2fsprogs\r\n",
      "/usr/share/doc/xfsprogs\r\n",
      "/usr/share/doc/e2fsprogs/README\r\n",
      "/usr/share/doc/e2fsprogs/RELEASE-NOTES.gz\r\n",
      "/usr/share/doc/e2fsprogs/changelog.Debian.gz\r\n",
      "/usr/share/doc/e2fsprogs/copyright\r\n",
      "/usr/share/doc/gawk/examples/prog\r\n",
      "/usr/share/doc/gawk/examples/prog/alarm.awk\r\n",
      "/usr/share/doc/gawk/examples/prog/anagram.awk\r\n",
      "/usr/share/doc/gawk/examples/prog/awksed.awk\r\n",
      "/usr/share/doc/gawk/examples/prog/cut.awk\r\n",
      "/usr/share/doc/gawk/examples/prog/dupword.awk\r\n",
      "/usr/share/doc/gawk/examples/prog/egrep.awk\r\n",
      "/usr/share/doc/gawk/examples/prog/extract.awk\r\n",
      "/usr/share/doc/gawk/examples/prog/guide.awk\r\n",
      "/usr/share/doc/gawk/examples/prog/histsort.awk\r\n",
      "/usr/share/doc/gawk/examples/prog/id.awk\r\n",
      "/usr/share/doc/gawk/examples/prog/igawk.sh\r\n",
      "/usr/share/doc/gawk/examples/prog/indirectcall.awk\r\n",
      "/usr/share/doc/gawk/examples/prog/labels.awk\r\n",
      "/usr/share/doc/gawk/examples/prog/split.awk\r\n",
      "/usr/share/doc/gawk/examples/prog/tee.awk\r\n",
      "/usr/share/doc/gawk/examples/prog/testbits.awk\r\n",
      "/usr/share/doc/gawk/examples/prog/translate.awk\r\n",
      "/usr/share/doc/gawk/examples/prog/uniq.awk\r\n",
      "/usr/share/doc/gawk/examples/prog/wc.awk\r\n",
      "/usr/share/doc/gawk/examples/prog/wordfreq.awk\r\n",
      "/usr/share/doc/python/faq/programming.html\r\n",
      "/usr/share/doc/python/python-policy.html/ch-programs.html\r\n",
      "/usr/share/doc/texlive-doc/generic/formlett/prog_manual.pdf\r\n",
      "/usr/share/doc/texlive-doc/generic/formlett/prog_manual.tex.gz\r\n",
      "/usr/share/doc/texlive-doc/latex/concprog\r\n",
      "/usr/share/doc/texlive-doc/latex/dprogress\r\n",
      "/usr/share/doc/texlive-doc/latex/program\r\n",
      "/usr/share/doc/texlive-doc/latex/progress\r\n",
      "/usr/share/doc/texlive-doc/latex/progressbar\r\n",
      "/usr/share/doc/texlive-doc/latex/concprog/program.tex\r\n",
      "/usr/share/doc/texlive-doc/latex/dprogress/README\r\n",
      "/usr/share/doc/texlive-doc/latex/dprogress/dprogress.pdf\r\n",
      "/usr/share/doc/texlive-doc/latex/jslectureplanner/examples/lectureprogram.pdf\r\n",
      "/usr/share/doc/texlive-doc/latex/jslectureplanner/examples/lectureprogram.tex\r\n",
      "/usr/share/doc/texlive-doc/latex/pgfplots/TeX-programming-notes.pdf\r\n",
      "/usr/share/doc/texlive-doc/latex/program/README\r\n",
      "/usr/share/doc/texlive-doc/latex/program/gpl-3.0.txt.gz\r\n",
      "/usr/share/doc/texlive-doc/latex/program/plink.tex\r\n",
      "/usr/share/doc/texlive-doc/latex/program/program-demo.tex.gz\r\n",
      "/usr/share/doc/texlive-doc/latex/program/program-doc.pdf\r\n",
      "/usr/share/doc/texlive-doc/latex/program/program-doc.tex\r\n",
      "/usr/share/doc/texlive-doc/latex/progress/README\r\n",
      "/usr/share/doc/texlive-doc/latex/progress/progress.pdf\r\n",
      "/usr/share/doc/texlive-doc/latex/progress/progress.tex.gz\r\n",
      "/usr/share/doc/texlive-doc/latex/progress/progress20030701.html\r\n",
      "/usr/share/doc/texlive-doc/latex/progressbar/README\r\n",
      "/usr/share/doc/texlive-doc/latex/progressbar/progressbar.pdf\r\n",
      "/usr/share/doc/texlive-doc/latex/progressbar/progressbar.tex.gz\r\n",
      "/usr/share/doc/texlive-doc/support/arara/figures/installer/install-progress.png\r\n",
      "/usr/share/doc/xfsprogs/CREDITS\r\n",
      "/usr/share/doc/xfsprogs/README\r\n",
      "/usr/share/doc/xfsprogs/changelog.Debian.gz\r\n",
      "/usr/share/doc/xfsprogs/copyright\r\n",
      "/usr/share/emacs/24.5/lisp/progmodes\r\n",
      "/usr/share/emacs/24.5/lisp/calc/calc-prog.el.gz\r\n",
      "/usr/share/emacs/24.5/lisp/calc/calc-prog.elc\r\n",
      "/usr/share/emacs/24.5/lisp/cedet/ede/proj-prog.el.gz\r\n",
      "/usr/share/emacs/24.5/lisp/cedet/ede/proj-prog.elc\r\n",
      "/usr/share/emacs/24.5/lisp/progmodes/ada-mode.el.gz\r\n",
      "/usr/share/emacs/24.5/lisp/progmodes/ada-mode.elc\r\n",
      "/usr/share/emacs/24.5/lisp/progmodes/ada-prj.el.gz\r\n",
      "/usr/share/emacs/24.5/lisp/progmodes/ada-prj.elc\r\n",
      "/usr/share/emacs/24.5/lisp/progmodes/ada-stmt.el.gz\r\n",
      "/usr/share/emacs/24.5/lisp/progmodes/ada-stmt.elc\r\n",
      "/usr/share/emacs/24.5/lisp/progmodes/ada-xref.el.gz\r\n",
      "/usr/share/emacs/24.5/lisp/progmodes/ada-xref.elc\r\n",
      "/usr/share/emacs/24.5/lisp/progmodes/antlr-mode.el.gz\r\n",
      "/usr/share/emacs/24.5/lisp/progmodes/antlr-mode.elc\r\n",
      "/usr/share/emacs/24.5/lisp/progmodes/asm-mode.el.gz\r\n",
      "/usr/share/emacs/24.5/lisp/progmodes/asm-mode.elc\r\n",
      "/usr/share/emacs/24.5/lisp/progmodes/autoconf.el.gz\r\n",
      "/usr/share/emacs/24.5/lisp/progmodes/autoconf.elc\r\n",
      "/usr/share/emacs/24.5/lisp/progmodes/bat-mode.el.gz\r\n",
      "/usr/share/emacs/24.5/lisp/progmodes/bat-mode.elc\r\n",
      "/usr/share/emacs/24.5/lisp/progmodes/bug-reference.el.gz\r\n",
      "/usr/share/emacs/24.5/lisp/progmodes/bug-reference.elc\r\n",
      "/usr/share/emacs/24.5/lisp/progmodes/cap-words.el.gz\r\n",
      "/usr/share/emacs/24.5/lisp/progmodes/cap-words.elc\r\n",
      "/usr/share/emacs/24.5/lisp/progmodes/cc-align.el.gz\r\n",
      "/usr/share/emacs/24.5/lisp/progmodes/cc-align.elc\r\n",
      "/usr/share/emacs/24.5/lisp/progmodes/cc-awk.el.gz\r\n",
      "/usr/share/emacs/24.5/lisp/progmodes/cc-awk.elc\r\n",
      "/usr/share/emacs/24.5/lisp/progmodes/cc-bytecomp.el.gz\r\n",
      "/usr/share/emacs/24.5/lisp/progmodes/cc-bytecomp.elc\r\n",
      "/usr/share/emacs/24.5/lisp/progmodes/cc-cmds.el.gz\r\n",
      "/usr/share/emacs/24.5/lisp/progmodes/cc-cmds.elc\r\n",
      "/usr/share/emacs/24.5/lisp/progmodes/cc-defs.el.gz\r\n",
      "/usr/share/emacs/24.5/lisp/progmodes/cc-defs.elc\r\n",
      "/usr/share/emacs/24.5/lisp/progmodes/cc-engine.el.gz\r\n",
      "/usr/share/emacs/24.5/lisp/progmodes/cc-engine.elc\r\n",
      "/usr/share/emacs/24.5/lisp/progmodes/cc-fonts.el.gz\r\n",
      "/usr/share/emacs/24.5/lisp/progmodes/cc-fonts.elc\r\n",
      "/usr/share/emacs/24.5/lisp/progmodes/cc-guess.el.gz\r\n",
      "/usr/share/emacs/24.5/lisp/progmodes/cc-guess.elc\r\n",
      "/usr/share/emacs/24.5/lisp/progmodes/cc-langs.el.gz\r\n",
      "/usr/share/emacs/24.5/lisp/progmodes/cc-langs.elc\r\n",
      "/usr/share/emacs/24.5/lisp/progmodes/cc-menus.el.gz\r\n",
      "/usr/share/emacs/24.5/lisp/progmodes/cc-menus.elc\r\n",
      "/usr/share/emacs/24.5/lisp/progmodes/cc-mode.el.gz\r\n",
      "/usr/share/emacs/24.5/lisp/progmodes/cc-mode.elc\r\n",
      "/usr/share/emacs/24.5/lisp/progmodes/cc-styles.el.gz\r\n",
      "/usr/share/emacs/24.5/lisp/progmodes/cc-styles.elc\r\n",
      "/usr/share/emacs/24.5/lisp/progmodes/cc-vars.el.gz\r\n",
      "/usr/share/emacs/24.5/lisp/progmodes/cc-vars.elc\r\n",
      "/usr/share/emacs/24.5/lisp/progmodes/cfengine.el.gz\r\n",
      "/usr/share/emacs/24.5/lisp/progmodes/cfengine.elc\r\n",
      "/usr/share/emacs/24.5/lisp/progmodes/cmacexp.el.gz\r\n",
      "/usr/share/emacs/24.5/lisp/progmodes/cmacexp.elc\r\n",
      "/usr/share/emacs/24.5/lisp/progmodes/compile.el.gz\r\n",
      "/usr/share/emacs/24.5/lisp/progmodes/compile.elc\r\n",
      "/usr/share/emacs/24.5/lisp/progmodes/cperl-mode.el.gz\r\n",
      "/usr/share/emacs/24.5/lisp/progmodes/cperl-mode.elc\r\n",
      "/usr/share/emacs/24.5/lisp/progmodes/cpp.el.gz\r\n",
      "/usr/share/emacs/24.5/lisp/progmodes/cpp.elc\r\n",
      "/usr/share/emacs/24.5/lisp/progmodes/cwarn.el.gz\r\n",
      "/usr/share/emacs/24.5/lisp/progmodes/cwarn.elc\r\n",
      "/usr/share/emacs/24.5/lisp/progmodes/dcl-mode.el.gz\r\n",
      "/usr/share/emacs/24.5/lisp/progmodes/dcl-mode.elc\r\n",
      "/usr/share/emacs/24.5/lisp/progmodes/ebnf-abn.el.gz\r\n",
      "/usr/share/emacs/24.5/lisp/progmodes/ebnf-abn.elc\r\n",
      "/usr/share/emacs/24.5/lisp/progmodes/ebnf-bnf.el.gz\r\n",
      "/usr/share/emacs/24.5/lisp/progmodes/ebnf-bnf.elc\r\n",
      "/usr/share/emacs/24.5/lisp/progmodes/ebnf-dtd.el.gz\r\n",
      "/usr/share/emacs/24.5/lisp/progmodes/ebnf-dtd.elc\r\n",
      "/usr/share/emacs/24.5/lisp/progmodes/ebnf-ebx.el.gz\r\n",
      "/usr/share/emacs/24.5/lisp/progmodes/ebnf-ebx.elc\r\n",
      "/usr/share/emacs/24.5/lisp/progmodes/ebnf-iso.el.gz\r\n",
      "/usr/share/emacs/24.5/lisp/progmodes/ebnf-iso.elc\r\n",
      "/usr/share/emacs/24.5/lisp/progmodes/ebnf-otz.el.gz\r\n",
      "/usr/share/emacs/24.5/lisp/progmodes/ebnf-otz.elc\r\n",
      "/usr/share/emacs/24.5/lisp/progmodes/ebnf-yac.el.gz\r\n",
      "/usr/share/emacs/24.5/lisp/progmodes/ebnf-yac.elc\r\n",
      "/usr/share/emacs/24.5/lisp/progmodes/ebnf2ps.el.gz\r\n",
      "/usr/share/emacs/24.5/lisp/progmodes/ebnf2ps.elc\r\n",
      "/usr/share/emacs/24.5/lisp/progmodes/ebrowse.el.gz\r\n",
      "/usr/share/emacs/24.5/lisp/progmodes/ebrowse.elc\r\n",
      "/usr/share/emacs/24.5/lisp/progmodes/etags.el.gz\r\n",
      "/usr/share/emacs/24.5/lisp/progmodes/etags.elc\r\n",
      "/usr/share/emacs/24.5/lisp/progmodes/executable.el.gz\r\n",
      "/usr/share/emacs/24.5/lisp/progmodes/executable.elc\r\n",
      "/usr/share/emacs/24.5/lisp/progmodes/f90.el.gz\r\n",
      "/usr/share/emacs/24.5/lisp/progmodes/f90.elc\r\n",
      "/usr/share/emacs/24.5/lisp/progmodes/flymake.el.gz\r\n",
      "/usr/share/emacs/24.5/lisp/progmodes/flymake.elc\r\n",
      "/usr/share/emacs/24.5/lisp/progmodes/fortran.el.gz\r\n",
      "/usr/share/emacs/24.5/lisp/progmodes/fortran.elc\r\n",
      "/usr/share/emacs/24.5/lisp/progmodes/gdb-mi.el.gz\r\n",
      "/usr/share/emacs/24.5/lisp/progmodes/gdb-mi.elc\r\n",
      "/usr/share/emacs/24.5/lisp/progmodes/glasses.el.gz\r\n",
      "/usr/share/emacs/24.5/lisp/progmodes/glasses.elc\r\n",
      "/usr/share/emacs/24.5/lisp/progmodes/grep.el.gz\r\n",
      "/usr/share/emacs/24.5/lisp/progmodes/grep.elc\r\n",
      "/usr/share/emacs/24.5/lisp/progmodes/gud.el.gz\r\n",
      "/usr/share/emacs/24.5/lisp/progmodes/gud.elc\r\n",
      "/usr/share/emacs/24.5/lisp/progmodes/hideif.el.gz\r\n",
      "/usr/share/emacs/24.5/lisp/progmodes/hideif.elc\r\n",
      "/usr/share/emacs/24.5/lisp/progmodes/hideshow.el.gz\r\n",
      "/usr/share/emacs/24.5/lisp/progmodes/hideshow.elc\r\n",
      "/usr/share/emacs/24.5/lisp/progmodes/icon.el.gz\r\n",
      "/usr/share/emacs/24.5/lisp/progmodes/icon.elc\r\n",
      "/usr/share/emacs/24.5/lisp/progmodes/idlw-complete-structtag.el.gz\r\n",
      "/usr/share/emacs/24.5/lisp/progmodes/idlw-complete-structtag.elc\r\n",
      "/usr/share/emacs/24.5/lisp/progmodes/idlw-help.el.gz\r\n",
      "/usr/share/emacs/24.5/lisp/progmodes/idlw-help.elc\r\n",
      "/usr/share/emacs/24.5/lisp/progmodes/idlw-shell.el.gz\r\n",
      "/usr/share/emacs/24.5/lisp/progmodes/idlw-shell.elc\r\n",
      "/usr/share/emacs/24.5/lisp/progmodes/idlw-toolbar.el.gz\r\n",
      "/usr/share/emacs/24.5/lisp/progmodes/idlw-toolbar.elc\r\n",
      "/usr/share/emacs/24.5/lisp/progmodes/idlwave.el.gz\r\n",
      "/usr/share/emacs/24.5/lisp/progmodes/idlwave.elc\r\n",
      "/usr/share/emacs/24.5/lisp/progmodes/inf-lisp.el.gz\r\n",
      "/usr/share/emacs/24.5/lisp/progmodes/inf-lisp.elc\r\n",
      "/usr/share/emacs/24.5/lisp/progmodes/js.el.gz\r\n",
      "/usr/share/emacs/24.5/lisp/progmodes/js.elc\r\n",
      "/usr/share/emacs/24.5/lisp/progmodes/ld-script.el.gz\r\n",
      "/usr/share/emacs/24.5/lisp/progmodes/ld-script.elc\r\n",
      "/usr/share/emacs/24.5/lisp/progmodes/m4-mode.el.gz\r\n",
      "/usr/share/emacs/24.5/lisp/progmodes/m4-mode.elc\r\n",
      "/usr/share/emacs/24.5/lisp/progmodes/make-mode.el.gz\r\n",
      "/usr/share/emacs/24.5/lisp/progmodes/make-mode.elc\r\n",
      "/usr/share/emacs/24.5/lisp/progmodes/mantemp.el.gz\r\n",
      "/usr/share/emacs/24.5/lisp/progmodes/mantemp.elc\r\n",
      "/usr/share/emacs/24.5/lisp/progmodes/meta-mode.el.gz\r\n",
      "/usr/share/emacs/24.5/lisp/progmodes/meta-mode.elc\r\n",
      "/usr/share/emacs/24.5/lisp/progmodes/mixal-mode.el.gz\r\n",
      "/usr/share/emacs/24.5/lisp/progmodes/mixal-mode.elc\r\n",
      "/usr/share/emacs/24.5/lisp/progmodes/modula2.el.gz\r\n",
      "/usr/share/emacs/24.5/lisp/progmodes/modula2.elc\r\n",
      "/usr/share/emacs/24.5/lisp/progmodes/octave.el.gz\r\n",
      "/usr/share/emacs/24.5/lisp/progmodes/octave.elc\r\n",
      "/usr/share/emacs/24.5/lisp/progmodes/opascal.el.gz\r\n",
      "/usr/share/emacs/24.5/lisp/progmodes/opascal.elc\r\n",
      "/usr/share/emacs/24.5/lisp/progmodes/pascal.el.gz\r\n",
      "/usr/share/emacs/24.5/lisp/progmodes/pascal.elc\r\n",
      "/usr/share/emacs/24.5/lisp/progmodes/perl-mode.el.gz\r\n",
      "/usr/share/emacs/24.5/lisp/progmodes/perl-mode.elc\r\n",
      "/usr/share/emacs/24.5/lisp/progmodes/prog-mode.el.gz\r\n",
      "/usr/share/emacs/24.5/lisp/progmodes/prog-mode.elc\r\n",
      "/usr/share/emacs/24.5/lisp/progmodes/prolog.el.gz\r\n",
      "/usr/share/emacs/24.5/lisp/progmodes/prolog.elc\r\n",
      "/usr/share/emacs/24.5/lisp/progmodes/ps-mode.el.gz\r\n",
      "/usr/share/emacs/24.5/lisp/progmodes/ps-mode.elc\r\n",
      "/usr/share/emacs/24.5/lisp/progmodes/python.el.gz\r\n",
      "/usr/share/emacs/24.5/lisp/progmodes/python.elc\r\n",
      "/usr/share/emacs/24.5/lisp/progmodes/ruby-mode.el.gz\r\n",
      "/usr/share/emacs/24.5/lisp/progmodes/ruby-mode.elc\r\n",
      "/usr/share/emacs/24.5/lisp/progmodes/scheme.el.gz\r\n",
      "/usr/share/emacs/24.5/lisp/progmodes/scheme.elc\r\n",
      "/usr/share/emacs/24.5/lisp/progmodes/sh-script.el.gz\r\n",
      "/usr/share/emacs/24.5/lisp/progmodes/sh-script.elc\r\n",
      "/usr/share/emacs/24.5/lisp/progmodes/simula.el.gz\r\n",
      "/usr/share/emacs/24.5/lisp/progmodes/simula.elc\r\n",
      "/usr/share/emacs/24.5/lisp/progmodes/sql.el.gz\r\n",
      "/usr/share/emacs/24.5/lisp/progmodes/sql.elc\r\n",
      "/usr/share/emacs/24.5/lisp/progmodes/subword.el.gz\r\n",
      "/usr/share/emacs/24.5/lisp/progmodes/subword.elc\r\n",
      "/usr/share/emacs/24.5/lisp/progmodes/tcl.el.gz\r\n",
      "/usr/share/emacs/24.5/lisp/progmodes/tcl.elc\r\n",
      "/usr/share/emacs/24.5/lisp/progmodes/vera-mode.el.gz\r\n",
      "/usr/share/emacs/24.5/lisp/progmodes/vera-mode.elc\r\n",
      "/usr/share/emacs/24.5/lisp/progmodes/verilog-mode.el.gz\r\n",
      "/usr/share/emacs/24.5/lisp/progmodes/verilog-mode.elc\r\n",
      "/usr/share/emacs/24.5/lisp/progmodes/vhdl-mode.el.gz\r\n",
      "/usr/share/emacs/24.5/lisp/progmodes/vhdl-mode.elc\r\n",
      "/usr/share/emacs/24.5/lisp/progmodes/which-func.el.gz\r\n",
      "/usr/share/emacs/24.5/lisp/progmodes/which-func.elc\r\n",
      "/usr/share/emacs/24.5/lisp/progmodes/xscheme.el.gz\r\n",
      "/usr/share/emacs/24.5/lisp/progmodes/xscheme.elc\r\n",
      "/usr/share/icons/Humanity/categories/128/redhat-programming.svg\r\n",
      "/usr/share/icons/Humanity/categories/16/redhat-programming.svg\r\n",
      "/usr/share/icons/Humanity/categories/22/redhat-programming.svg\r\n",
      "/usr/share/icons/Humanity/categories/24/redhat-programming.svg\r\n",
      "/usr/share/icons/Humanity/categories/32/redhat-programming.svg\r\n",
      "/usr/share/icons/Humanity/categories/48/redhat-programming.svg\r\n",
      "/usr/share/icons/Humanity/categories/64/redhat-programming.svg\r\n",
      "/usr/share/jed/doc/txt/program.txt\r\n",
      "/usr/share/locale/ca/LC_MESSAGES/e2fsprogs.mo\r\n",
      "/usr/share/locale/cs/LC_MESSAGES/e2fsprogs.mo\r\n",
      "/usr/share/locale/da/LC_MESSAGES/e2fsprogs.mo\r\n",
      "/usr/share/locale/de/LC_MESSAGES/e2fsprogs.mo\r\n",
      "/usr/share/locale/eo/LC_MESSAGES/e2fsprogs.mo\r\n",
      "/usr/share/locale/es/LC_MESSAGES/e2fsprogs.mo\r\n",
      "/usr/share/locale/fr/LC_MESSAGES/e2fsprogs.mo\r\n",
      "/usr/share/locale/id/LC_MESSAGES/e2fsprogs.mo\r\n",
      "/usr/share/locale/it/LC_MESSAGES/e2fsprogs.mo\r\n",
      "/usr/share/locale/nl/LC_MESSAGES/e2fsprogs.mo\r\n",
      "/usr/share/locale/pl/LC_MESSAGES/e2fsprogs.mo\r\n",
      "/usr/share/locale/sv/LC_MESSAGES/e2fsprogs.mo\r\n",
      "/usr/share/locale/tr/LC_MESSAGES/e2fsprogs.mo\r\n",
      "/usr/share/locale/uk/LC_MESSAGES/e2fsprogs.mo\r\n",
      "/usr/share/locale/vi/LC_MESSAGES/e2fsprogs.mo\r\n",
      "/usr/share/locale/zh_CN/LC_MESSAGES/e2fsprogs.mo\r\n",
      "/usr/share/locale-langpack/de/LC_MESSAGES/e2fsprogs.mo\r\n",
      "/usr/share/locale-langpack/de/LC_MESSAGES/xfsprogs.mo\r\n",
      "/usr/share/locale-langpack/en_AU/LC_MESSAGES/e2fsprogs.mo\r\n",
      "/usr/share/locale-langpack/en_AU/LC_MESSAGES/xfsprogs.mo\r\n",
      "/usr/share/locale-langpack/en_GB/LC_MESSAGES/e2fsprogs.mo\r\n",
      "/usr/share/locale-langpack/en_GB/LC_MESSAGES/xfsprogs.mo\r\n",
      "/usr/share/man/de/man1/debconf-apt-progress.1.gz\r\n",
      "/usr/share/man/es/man1/debconf-apt-progress.1.gz\r\n",
      "/usr/share/man/fr/man1/debconf-apt-progress.1.gz\r\n",
      "/usr/share/man/man1/debconf-apt-progress.1.gz\r\n",
      "/usr/share/man/man3/error_print_progname.3.gz\r\n",
      "/usr/share/man/man3/program_invocation_name.3.gz\r\n",
      "/usr/share/man/man3/program_invocation_short_name.3.gz\r\n",
      "/usr/share/man/man3/svcerr_noprog.3.gz\r\n",
      "/usr/share/man/man3/svcerr_progvers.3.gz\r\n",
      "/usr/share/man/man8/ntfsprogs.8.gz\r\n",
      "/usr/share/man/pt/man1/debconf-apt-progress.1.gz\r\n",
      "/usr/share/man/ru/man1/debconf-apt-progress.1.gz\r\n",
      "/usr/share/python-wheels/progress-1.2-py2.py3-none-any.whl\r\n",
      "/usr/share/tcltk/tk8.6/ttk/progress.tcl\r\n",
      "/usr/share/texlive/texmf-dist/tex/latex/concprog\r\n",
      "/usr/share/texlive/texmf-dist/tex/latex/dprogress\r\n",
      "/usr/share/texlive/texmf-dist/tex/latex/program\r\n",
      "/usr/share/texlive/texmf-dist/tex/latex/progress\r\n",
      "/usr/share/texlive/texmf-dist/tex/latex/progressbar\r\n",
      "/usr/share/texlive/texmf-dist/tex/latex/concprog/ConcProg.cls\r\n",
      "/usr/share/texlive/texmf-dist/tex/latex/dprogress/dprogress.sty\r\n",
      "/usr/share/texlive/texmf-dist/tex/latex/program/program.sty\r\n",
      "/usr/share/texlive/texmf-dist/tex/latex/progress/progress.sty\r\n",
      "/usr/share/texlive/texmf-dist/tex/latex/progressbar/progressbar.sty\r\n",
      "/usr/share/vim/vim74/syntax/progress.vim\r\n",
      "/usr/src/linux-headers-4.4.0-36-generic/include/config/mtd/onenand/2x/program.h\r\n",
      "/usr/src/linux-headers-4.4.0-38-generic/include/config/mtd/onenand/2x/program.h\r\n",
      "/vagrant/data/suchmuster/prog\r\n",
      "/vagrant/data/suchmuster/prog+.c\r\n",
      "/vagrant/data/suchmuster/prog-.c\r\n",
      "/vagrant/data/suchmuster/prog.c\r\n",
      "/vagrant/data/suchmuster/prog1.c\r\n",
      "/vagrant/data/suchmuster/prog12.c\r\n",
      "/vagrant/data/suchmuster/prog13.c\r\n",
      "/vagrant/data/suchmuster/prog2.c\r\n",
      "/vagrant/data/suchmuster/prog3.c\r\n",
      "/vagrant/data/suchmuster/prog4.c\r\n",
      "/vagrant/data/suchmuster/prog5.c\r\n",
      "/vagrant/data/suchmuster/prog:.c\r\n",
      "/vagrant/data/suchmuster/progQ.c\r\n",
      "/vagrant/data/suchmuster/prog_.c\r\n",
      "/vagrant/data/suchmuster/progabc.c\r\n",
      "/vagrant/data/suchmuster/progx.c\r\n",
      "/var/lib/dpkg/info/e2fsprogs.conffiles\r\n",
      "/var/lib/dpkg/info/e2fsprogs.list\r\n",
      "/var/lib/dpkg/info/e2fsprogs.md5sums\r\n",
      "/var/lib/dpkg/info/e2fsprogs.preinst\r\n",
      "/var/lib/dpkg/info/xfsprogs.list\r\n",
      "/var/lib/dpkg/info/xfsprogs.md5sums\r\n",
      "/var/lib/dpkg/info/xfsprogs.postinst\r\n",
      "/var/lib/dpkg/info/xfsprogs.shlibs\r\n",
      "/var/lib/dpkg/info/xfsprogs.triggers\r\n"
     ]
    }
   ],
   "source": [
    "locate prog"
   ]
  },
  {
   "cell_type": "code",
   "execution_count": 210,
   "metadata": {},
   "outputs": [
    {
     "name": "stdout",
     "output_type": "stream",
     "text": [
      "/home/vagrant/data/suchmuster/prog+.c\r\n",
      "/home/vagrant/data/suchmuster/prog-.c\r\n",
      "/home/vagrant/data/suchmuster/prog.c\r\n",
      "/home/vagrant/data/suchmuster/prog1.c\r\n",
      "/home/vagrant/data/suchmuster/prog12.c\r\n",
      "/home/vagrant/data/suchmuster/prog13.c\r\n",
      "/home/vagrant/data/suchmuster/prog2.c\r\n",
      "/home/vagrant/data/suchmuster/prog3.c\r\n",
      "/home/vagrant/data/suchmuster/prog4.c\r\n",
      "/home/vagrant/data/suchmuster/prog5.c\r\n",
      "/home/vagrant/data/suchmuster/prog:.c\r\n",
      "/home/vagrant/data/suchmuster/progQ.c\r\n",
      "/home/vagrant/data/suchmuster/prog_.c\r\n",
      "/home/vagrant/data/suchmuster/progabc.c\r\n",
      "/home/vagrant/data/suchmuster/progx.c\r\n",
      "/vagrant/data/suchmuster/prog+.c\r\n",
      "/vagrant/data/suchmuster/prog-.c\r\n",
      "/vagrant/data/suchmuster/prog.c\r\n",
      "/vagrant/data/suchmuster/prog1.c\r\n",
      "/vagrant/data/suchmuster/prog12.c\r\n",
      "/vagrant/data/suchmuster/prog13.c\r\n",
      "/vagrant/data/suchmuster/prog2.c\r\n",
      "/vagrant/data/suchmuster/prog3.c\r\n",
      "/vagrant/data/suchmuster/prog4.c\r\n",
      "/vagrant/data/suchmuster/prog5.c\r\n",
      "/vagrant/data/suchmuster/prog:.c\r\n",
      "/vagrant/data/suchmuster/progQ.c\r\n",
      "/vagrant/data/suchmuster/prog_.c\r\n",
      "/vagrant/data/suchmuster/progabc.c\r\n",
      "/vagrant/data/suchmuster/progx.c\r\n"
     ]
    }
   ],
   "source": [
    "locate \"*/prog*.c\""
   ]
  },
  {
   "cell_type": "markdown",
   "metadata": {},
   "source": [
    "## Übungen\n",
    "\n",
    "C 6.28 [!1] README ist ein sehr populärer Dateiname. Geben Sie die absoluten Pfadnamen aller Dateien auf Ihrem System an, die README heißen.\n",
    "\n",
    "C 6.29 [2] Legen Sie eine neue Datei in Ihrem Heimatverzeichnis an und überzeugen Sie sich durch einen locate -Aufruf, dass diese Datei nicht gefunden wird (wählen Sie gegebenenfalls einen hinreichend ausgefallenen Dateinamen). Rufen Sie dann (mit Administratorrechten) das Programm updatedb auf. Wird Ihre neue Datei danach mit locate gefunden? Löschen Sie die Datei wieder und wiederholen Sie die vorigen Schritte.\n",
    "\n",
    "C 6.30 [1] Überzeugen Sie sich, dass slocate funktioniert, indem Sie als gewöhnlicher Benutzer nach Dateien wie /etc/shadow suchen."
   ]
  },
  {
   "cell_type": "code",
   "execution_count": null,
   "metadata": {},
   "outputs": [],
   "source": []
  }
 ],
 "metadata": {
  "kernelspec": {
   "display_name": "Bash",
   "language": "bash",
   "name": "bash"
  },
  "language_info": {
   "codemirror_mode": "shell",
   "file_extension": ".sh",
   "mimetype": "text/x-sh",
   "name": "bash"
  }
 },
 "nbformat": 4,
 "nbformat_minor": 0
}
