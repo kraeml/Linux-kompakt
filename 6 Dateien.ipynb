{
 "cells": [
  {
   "cell_type": "markdown",
   "metadata": {},
   "source": [
    "# Dateien\n",
    "\n",
    "Wir gehen in ~. Wechseln ins Verzeichenis data und falls das Verzeichnis data existiert, wird dieses gelöscht."
   ]
  },
  {
   "cell_type": "code",
   "execution_count": 128,
   "metadata": {},
   "outputs": [
    {
     "name": "stdout",
     "output_type": "stream",
     "text": [
      "/home/vagrant/data\r\n",
      "3 Keine Angst vor der Shell.ipynb  5 Vim.ipynb      geschweifte\r\n",
      "4 Hilfe.ipynb                      6 Dateien.ipynb  suchmuster\r\n"
     ]
    }
   ],
   "source": [
    "cd\n",
    "cd data\n",
    "pwd\n",
    "if [ -d briefe ]; then rm -rf briefe; fi;\n",
    "ls"
   ]
  },
  {
   "cell_type": "markdown",
   "metadata": {},
   "source": [
    "Erstellen von Verzeichnissen und hineinwechseln"
   ]
  },
  {
   "cell_type": "code",
   "execution_count": 129,
   "metadata": {},
   "outputs": [
    {
     "name": "stdout",
     "output_type": "stream",
     "text": []
    }
   ],
   "source": [
    "mkdir briefe"
   ]
  },
  {
   "cell_type": "code",
   "execution_count": 33,
   "metadata": {},
   "outputs": [
    {
     "name": "stdout",
     "output_type": "stream",
     "text": []
    }
   ],
   "source": [
    "cd briefe"
   ]
  },
  {
   "cell_type": "code",
   "execution_count": 130,
   "metadata": {},
   "outputs": [
    {
     "name": "stdout",
     "output_type": "stream",
     "text": [
      "/home/vagrant/data\r\n"
     ]
    }
   ],
   "source": [
    "pwd"
   ]
  },
  {
   "cell_type": "markdown",
   "metadata": {},
   "source": [
    "Übergeordnetes Verzeichnis"
   ]
  },
  {
   "cell_type": "code",
   "execution_count": 35,
   "metadata": {},
   "outputs": [
    {
     "name": "stdout",
     "output_type": "stream",
     "text": [
      "/home/vagrant/data\r\n"
     ]
    }
   ],
   "source": [
    "cd ..\n",
    "pwd"
   ]
  },
  {
   "cell_type": "code",
   "execution_count": null,
   "metadata": {},
   "outputs": [],
   "source": [
    "Zurück ins Homeverzeichnis"
   ]
  },
  {
   "cell_type": "code",
   "execution_count": 36,
   "metadata": {},
   "outputs": [
    {
     "name": "stdout",
     "output_type": "stream",
     "text": [
      "/home/vagrant\r\n"
     ]
    }
   ],
   "source": [
    "cd\n",
    "pwd"
   ]
  },
  {
   "cell_type": "markdown",
   "metadata": {},
   "source": [
    "Zurück ins vorheriges Verzeichnis"
   ]
  },
  {
   "cell_type": "code",
   "execution_count": 37,
   "metadata": {},
   "outputs": [
    {
     "name": "stdout",
     "output_type": "stream",
     "text": [
      "/home/vagrant/data\r\n"
     ]
    }
   ],
   "source": [
    "cd -"
   ]
  },
  {
   "cell_type": "code",
   "execution_count": 38,
   "metadata": {},
   "outputs": [
    {
     "name": "stdout",
     "output_type": "stream",
     "text": []
    }
   ],
   "source": [
    "cd /var/www"
   ]
  },
  {
   "cell_type": "code",
   "execution_count": 39,
   "metadata": {},
   "outputs": [
    {
     "name": "stdout",
     "output_type": "stream",
     "text": [
      "/var/www\r\n"
     ]
    }
   ],
   "source": [
    "pwd"
   ]
  },
  {
   "cell_type": "code",
   "execution_count": 23,
   "metadata": {},
   "outputs": [
    {
     "name": "stdout",
     "output_type": "stream",
     "text": [
      "html\r\n"
     ]
    }
   ],
   "source": [
    "ls"
   ]
  },
  {
   "cell_type": "code",
   "execution_count": 40,
   "metadata": {},
   "outputs": [
    {
     "name": "stdout",
     "output_type": "stream",
     "text": []
    }
   ],
   "source": [
    "cd html"
   ]
  },
  {
   "cell_type": "code",
   "execution_count": 25,
   "metadata": {},
   "outputs": [
    {
     "name": "stdout",
     "output_type": "stream",
     "text": [
      "/var/www/html\r\n"
     ]
    }
   ],
   "source": [
    "pwd"
   ]
  },
  {
   "cell_type": "code",
   "execution_count": 41,
   "metadata": {},
   "outputs": [
    {
     "name": "stdout",
     "output_type": "stream",
     "text": []
    }
   ],
   "source": [
    "cd"
   ]
  },
  {
   "cell_type": "code",
   "execution_count": 27,
   "metadata": {},
   "outputs": [
    {
     "name": "stdout",
     "output_type": "stream",
     "text": [
      "/home/vagrant\r\n"
     ]
    }
   ],
   "source": [
    "pwd"
   ]
  },
  {
   "cell_type": "code",
   "execution_count": 42,
   "metadata": {},
   "outputs": [
    {
     "name": "stdout",
     "output_type": "stream",
     "text": [
      "/var/www/html\r\n"
     ]
    }
   ],
   "source": [
    "cd -"
   ]
  },
  {
   "cell_type": "code",
   "execution_count": 131,
   "metadata": {},
   "outputs": [
    {
     "name": "stdout",
     "output_type": "stream",
     "text": []
    }
   ],
   "source": [
    "cd\n",
    "cd data/briefe\n",
    "touch datei.txt datei2.txt"
   ]
  },
  {
   "cell_type": "markdown",
   "metadata": {},
   "source": [
    "## Übungen\n",
    "\n",
    "C 6.1 [2] Ist cd ein externes Kommando oder als internes Kommando in die Shell eingebaut? Warum?\n",
    "\n",
    "C 6.2 [3] Lesen Sie in der Handbuchseite der bash über die Kommandos pushd,\n",
    "popd und dirs nach. Überzeugen Sie sich, dass diese Kommandos funktionieren."
   ]
  },
  {
   "cell_type": "markdown",
   "metadata": {},
   "source": [
    "### 6.2.2 Dateien und Verzeichnisse auflisten – ls"
   ]
  },
  {
   "cell_type": "code",
   "execution_count": 45,
   "metadata": {},
   "outputs": [
    {
     "name": "stdout",
     "output_type": "stream",
     "text": [
      "datei2.txt  datei.txt\r\n"
     ]
    }
   ],
   "source": [
    "ls"
   ]
  },
  {
   "cell_type": "code",
   "execution_count": 46,
   "metadata": {},
   "outputs": [
    {
     "name": "stdout",
     "output_type": "stream",
     "text": [
      "insgesamt 0\r\n",
      "-rw-rw-r-- 1 vagrant vagrant 0 Okt  3 16:58 datei2.txt\r\n",
      "-rw-rw-r-- 1 vagrant vagrant 0 Okt  3 16:58 datei.txt\r\n"
     ]
    }
   ],
   "source": [
    "ls -l"
   ]
  },
  {
   "cell_type": "markdown",
   "metadata": {},
   "source": [
    "## Übungen\n",
    "\n",
    "C 6.3 [1] Welche Dateien stehen im Verzeichnis /boot ? Hat das Verzeichnis Unerverzeichnisse und, wenn ja, welche?\n",
    "\n",
    "C 6.4 [2] Erklären Sie den Unterschied zwischen ls mit einem Dateinamen als Argument und ls mit einem Verzeichnisnamen als Argument.\n",
    "\n",
    "C 6.5 [2] Wie können Sie ls dazu bringen, bei einem Verzeichnisnamen als Argument Informationen über das benannte Verzeichnis selbst anstatt über die darin enthaltenen Dateien zu liefern?"
   ]
  },
  {
   "cell_type": "markdown",
   "metadata": {},
   "source": [
    "### 6.2.3 Verzeichnisse anlegen und löschen: mkdir und rmdir"
   ]
  },
  {
   "cell_type": "code",
   "execution_count": 52,
   "metadata": {},
   "outputs": [
    {
     "name": "stdout",
     "output_type": "stream",
     "text": []
    }
   ],
   "source": [
    "cd ~/data\n",
    "if [ -d bilder ]; then rm -rf bilder; fi;"
   ]
  },
  {
   "cell_type": "code",
   "execution_count": 53,
   "metadata": {},
   "outputs": [
    {
     "name": "stdout",
     "output_type": "stream",
     "text": [
      "mkdir: das Verzeichnis »bilder/urlaub“ kann nicht angelegt werden: Datei oder Verzeichnis nicht gefunden\r\n"
     ]
    }
   ],
   "source": [
    "mkdir bilder/urlaub"
   ]
  },
  {
   "cell_type": "code",
   "execution_count": 54,
   "metadata": {},
   "outputs": [
    {
     "name": "stdout",
     "output_type": "stream",
     "text": []
    }
   ],
   "source": [
    "mkdir -p bilder/urlaub"
   ]
  },
  {
   "cell_type": "code",
   "execution_count": 55,
   "metadata": {},
   "outputs": [
    {
     "name": "stdout",
     "output_type": "stream",
     "text": [
      "urlaub/\r\n"
     ]
    }
   ],
   "source": [
    "cd bilder\n",
    "ls -F"
   ]
  },
  {
   "cell_type": "code",
   "execution_count": 56,
   "metadata": {},
   "outputs": [
    {
     "name": "stdout",
     "output_type": "stream",
     "text": [
      "3 Keine Angst vor der Shell.ipynb  5 Vim.ipynb      bilder/\r\n",
      "4 Hilfe.ipynb                      6 Dateien.ipynb  briefe/\r\n"
     ]
    }
   ],
   "source": [
    "cd ~/data\n",
    "rmdir bilder/urlaub\n",
    "ls -F"
   ]
  },
  {
   "cell_type": "code",
   "execution_count": 57,
   "metadata": {},
   "outputs": [
    {
     "name": "stdout",
     "output_type": "stream",
     "text": [
      "urlaub/\r\n"
     ]
    }
   ],
   "source": [
    "mkdir -p bilder/urlaub/sommer\n",
    "rmdir bilder/urlaub/sommer\n",
    "ls -F bilder"
   ]
  },
  {
   "cell_type": "code",
   "execution_count": 58,
   "metadata": {},
   "outputs": [
    {
     "name": "stdout",
     "output_type": "stream",
     "text": [
      "ls: Zugriff auf 'bilder' nicht möglich: Datei oder Verzeichnis nicht gefunden\r\n"
     ]
    }
   ],
   "source": [
    "rmdir -p bilder/urlaub\n",
    "ls -F bilder"
   ]
  },
  {
   "cell_type": "markdown",
   "metadata": {},
   "source": [
    "## Übungen\n",
    "\n",
    "C 6.6 [!2] Legen Sie in Ihrem Heimatverzeichnis ein Verzeichnis grd1-test mit den Unterverzeichnissen dir1, dir2 und dir3 an. Wechseln Sie ins Verzeichnis grd1-test/dir1 und legen Sie (etwa mit einem Texteditor) eine Datei namens hallo mit dem Inhalt »hallo« an. Legen Sie in grd1-test/dir2 eine Datei namens huhu mit dem Inhalt »huhu« an. Vergewissern Sie sich, dass diese Dateien angelegt wurden. Löschen Sie das Unterverzeichnis dir3 mit rmdir.\n",
    "\n",
    "Versuchen Sie anschließend, das Unterverzeichnis dir2 mit rmdir zu löschen.\n",
    "\n",
    "Was passiert und warum?"
   ]
  },
  {
   "cell_type": "markdown",
   "metadata": {},
   "source": [
    "## 6.3 Suchmuster für Dateien"
   ]
  },
  {
   "cell_type": "code",
   "execution_count": 115,
   "metadata": {},
   "outputs": [
    {
     "name": "stdout",
     "output_type": "stream",
     "text": [
      "a1.txt    c1.txt    p22.dat     p-.c        prog1.c    prog-.c  rot.txt\r\n",
      "a2.txt    c2.txt    p22.txt     p.c         prog2.c    prog:.c  untitled.txt\r\n",
      "a3.txt    c3.txt    p2.c        p..c        prog3.c    prog.c\r\n",
      "b1.txt    gelb.txt  p3.c        pop-rock.c  prog4.c    prog+.c\r\n",
      "b2.txt    p1.c      p4.c        prog        prog5.c    progQ.c\r\n",
      "b3.txt    p1.txt    pa.c        prog12.c    progabc.c  progx.c\r\n",
      "blau.txt  p21.txt   paulchen.c  prog13.c    prog_.c    p.txt\r\n"
     ]
    }
   ],
   "source": [
    "cd ~/data\n",
    "ls suchmuster"
   ]
  },
  {
   "cell_type": "code",
   "execution_count": 116,
   "metadata": {},
   "outputs": [
    {
     "name": "stdout",
     "output_type": "stream",
     "text": [
      "suchmuster/p1.c        suchmuster/pop-rock.c  suchmuster/prog_.c\r\n",
      "suchmuster/p2.c        suchmuster/prog12.c    suchmuster/prog-.c\r\n",
      "suchmuster/p3.c        suchmuster/prog13.c    suchmuster/prog:.c\r\n",
      "suchmuster/p4.c        suchmuster/prog1.c     suchmuster/prog.c\r\n",
      "suchmuster/pa.c        suchmuster/prog2.c     suchmuster/prog+.c\r\n",
      "suchmuster/paulchen.c  suchmuster/prog3.c     suchmuster/progQ.c\r\n",
      "suchmuster/p-.c        suchmuster/prog4.c     suchmuster/progx.c\r\n",
      "suchmuster/p.c         suchmuster/prog5.c\r\n",
      "suchmuster/p..c        suchmuster/progabc.c\r\n"
     ]
    }
   ],
   "source": [
    "ls suchmuster/p*.c"
   ]
  },
  {
   "cell_type": "code",
   "execution_count": 117,
   "metadata": {},
   "outputs": [
    {
     "name": "stdout",
     "output_type": "stream",
     "text": [
      "suchmuster/p1.c        suchmuster/pop-rock.c  suchmuster/prog_.c\r\n",
      "suchmuster/p2.c        suchmuster/prog12.c    suchmuster/prog-.c\r\n",
      "suchmuster/p3.c        suchmuster/prog13.c    suchmuster/prog:.c\r\n",
      "suchmuster/p4.c        suchmuster/prog1.c     suchmuster/prog.c\r\n",
      "suchmuster/pa.c        suchmuster/prog2.c     suchmuster/prog+.c\r\n",
      "suchmuster/paulchen.c  suchmuster/prog3.c     suchmuster/progQ.c\r\n",
      "suchmuster/p-.c        suchmuster/prog4.c     suchmuster/progx.c\r\n",
      "suchmuster/p.c         suchmuster/prog5.c\r\n",
      "suchmuster/p..c        suchmuster/progabc.c\r\n"
     ]
    }
   ],
   "source": [
    "ls suchmuster/p*.c"
   ]
  },
  {
   "cell_type": "code",
   "execution_count": 118,
   "metadata": {},
   "outputs": [
    {
     "name": "stdout",
     "output_type": "stream",
     "text": [
      "suchmuster/p1.c  suchmuster/p3.c  suchmuster/pa.c  suchmuster/p..c\r\n",
      "suchmuster/p2.c  suchmuster/p4.c  suchmuster/p-.c\r\n"
     ]
    }
   ],
   "source": [
    "ls suchmuster/p?.c"
   ]
  },
  {
   "cell_type": "code",
   "execution_count": 119,
   "metadata": {},
   "outputs": [
    {
     "name": "stdout",
     "output_type": "stream",
     "text": [
      "suchmuster/prog1.c  suchmuster/prog2.c  suchmuster/prog3.c\r\n"
     ]
    }
   ],
   "source": [
    "ls suchmuster/prog[123].c"
   ]
  },
  {
   "cell_type": "code",
   "execution_count": 120,
   "metadata": {},
   "outputs": [
    {
     "name": "stdout",
     "output_type": "stream",
     "text": [
      "suchmuster/prog1.c  suchmuster/prog3.c  suchmuster/prog5.c\r\n",
      "suchmuster/prog2.c  suchmuster/prog4.c\r\n"
     ]
    }
   ],
   "source": [
    "ls suchmuster/prog[1-9].c"
   ]
  },
  {
   "cell_type": "markdown",
   "metadata": {},
   "source": [
    "Achtung dies funktioniert anders als im Buch"
   ]
  },
  {
   "cell_type": "code",
   "execution_count": 121,
   "metadata": {},
   "outputs": [
    {
     "name": "stdout",
     "output_type": "stream",
     "text": [
      "suchmuster/progQ.c  suchmuster/progx.c\r\n"
     ]
    }
   ],
   "source": [
    "ls suchmuster/prog[A-z].c"
   ]
  },
  {
   "cell_type": "code",
   "execution_count": 122,
   "metadata": {},
   "outputs": [
    {
     "name": "stdout",
     "output_type": "stream",
     "text": [
      "suchmuster/prog1.c  suchmuster/prog4.c  suchmuster/prog-.c\r\n",
      "suchmuster/prog2.c  suchmuster/prog5.c  suchmuster/prog:.c\r\n",
      "suchmuster/prog3.c  suchmuster/prog_.c  suchmuster/prog+.c\r\n"
     ]
    }
   ],
   "source": [
    "ls suchmuster/prog[!A-z].c"
   ]
  },
  {
   "cell_type": "markdown",
   "metadata": {},
   "source": [
    "### 6.3.3 Geschweifte Klammern"
   ]
  },
  {
   "cell_type": "code",
   "execution_count": 123,
   "metadata": {},
   "outputs": [
    {
     "name": "stdout",
     "output_type": "stream",
     "text": []
    }
   ],
   "source": [
    "cd ~/data\n",
    "if [ -d geschweifte ]; then rm -rf geschweifte; fi;"
   ]
  },
  {
   "cell_type": "code",
   "execution_count": 124,
   "metadata": {},
   "outputs": [
    {
     "name": "stdout",
     "output_type": "stream",
     "text": [
      "geschweifte\r\n"
     ]
    }
   ],
   "source": [
    "mkdir geschweifte\n",
    "ls -d geschweifte\n",
    "cd geschweifte"
   ]
  },
  {
   "cell_type": "code",
   "execution_count": 125,
   "metadata": {},
   "outputs": [
    {
     "name": "stdout",
     "output_type": "stream",
     "text": [
      "-rw-rw-r-- 1 vagrant vagrant 0 Okt  3 17:42 blau.txt\r\n",
      "-rw-rw-r-- 1 vagrant vagrant 0 Okt  3 17:42 gelb.txt\r\n",
      "-rw-rw-r-- 1 vagrant vagrant 0 Okt  3 17:42 rot.txt\r\n"
     ]
    }
   ],
   "source": [
    "touch {rot,blau,gelb}.txt\n",
    "ls -l *.txt"
   ]
  },
  {
   "cell_type": "code",
   "execution_count": 126,
   "metadata": {},
   "outputs": [
    {
     "name": "stdout",
     "output_type": "stream",
     "text": [
      "-rw-rw-r-- 1 vagrant vagrant 0 Okt  3 17:42 a1.dat\r\n",
      "-rw-rw-r-- 1 vagrant vagrant 0 Okt  3 17:42 a2.dat\r\n",
      "-rw-rw-r-- 1 vagrant vagrant 0 Okt  3 17:42 a3.dat\r\n",
      "-rw-rw-r-- 1 vagrant vagrant 0 Okt  3 17:42 b1.dat\r\n",
      "-rw-rw-r-- 1 vagrant vagrant 0 Okt  3 17:42 b2.dat\r\n",
      "-rw-rw-r-- 1 vagrant vagrant 0 Okt  3 17:42 b3.dat\r\n",
      "-rw-rw-r-- 1 vagrant vagrant 0 Okt  3 17:42 c1.dat\r\n",
      "-rw-rw-r-- 1 vagrant vagrant 0 Okt  3 17:42 c2.dat\r\n",
      "-rw-rw-r-- 1 vagrant vagrant 0 Okt  3 17:42 c3.dat\r\n"
     ]
    }
   ],
   "source": [
    "touch {a,b,c}{1,2,3}.dat\n",
    "ls -l *.dat"
   ]
  },
  {
   "cell_type": "code",
   "execution_count": 127,
   "metadata": {},
   "outputs": [
    {
     "name": "stdout",
     "output_type": "stream",
     "text": [
      "umsatz\r\n",
      "├── 2016\r\n",
      "│   ├── q1\r\n",
      "│   ├── q2\r\n",
      "│   ├── q3\r\n",
      "│   └── q4\r\n",
      "└── 2017\r\n",
      "    ├── q1\r\n",
      "    ├── q2\r\n",
      "    ├── q3\r\n",
      "    └── q4\r\n",
      "\r\n",
      "10 directories, 0 files\r\n"
     ]
    }
   ],
   "source": [
    "mkdir -p umsatz/201{6,7}/q{1,2,3,4}\n",
    "tree umsatz"
   ]
  },
  {
   "cell_type": "markdown",
   "metadata": {},
   "source": [
    "## Übungen\n",
    "\n",
    "C 6.7 [!1] Im aktuellen Verzeichnis stehen die Dateien\n",
    "\n",
    "* prog.c\n",
    "* p.txt\n",
    "* prog1.c\n",
    "* p1.txt\n",
    "* prog2.c\n",
    "* p21.txt\n",
    "* progabc.c\n",
    "* p22.txt\n",
    "* prog\n",
    "* p22.dat\n",
    "\n",
    "Auf welche dieser Dateinamen passen die Suchmuster\n",
    "\n",
    "    (a) prog*.c, \n",
    "    (b) prog?.c,\n",
    "    (c) p?*.txt, \n",
    "    (d) p[12]*, \n",
    "    (e) p*, \n",
    "    (f) *.*\n",
    "    \n",
    "C 6.8 [!2] Was ist der Unterschied zwischen » ls « und » ls * «? (Tipp: Probieren Sie beides in einem Verzeichnis aus, das Unterverzeichnisse enthält.)\n",
    "\n",
    "C 6.9 [2] Erklären Sie, warum das folgende Kommando zur angezeigten Ausgabe führt:\n",
    "\n",
    "    $ ls\n",
    "    -l datei1 datei2 datei3\n",
    "    $ ls *\n",
    "    -rw-r--r-- 1 hugo users 0 Dec 19 11:24 datei1\n",
    "    -rw-r--r-- 1 hugo users 0 Dec 19 11:24 datei2\n",
    "    -rw-r--r-- 1 hugo users 0 Dec 19 11:24 datei3\n",
    "    \n",
    "C 6.10 [2] Warum ist es sinnvoll, dass » * « nicht auf Dateinamen mit Punkt am Anfang passt?"
   ]
  },
  {
   "cell_type": "markdown",
   "metadata": {},
   "source": [
    "### 6.4.1 Kopieren, Verschieben und Löschen – cp und Verwandte"
   ]
  },
  {
   "cell_type": "code",
   "execution_count": null,
   "metadata": {},
   "outputs": [],
   "source": []
  }
 ],
 "metadata": {
  "kernelspec": {
   "display_name": "Bash",
   "language": "bash",
   "name": "bash"
  },
  "language_info": {
   "codemirror_mode": "shell",
   "file_extension": ".sh",
   "mimetype": "text/x-sh",
   "name": "bash"
  }
 },
 "nbformat": 4,
 "nbformat_minor": 0
}
