{
 "cells": [
  {
   "cell_type": "markdown",
   "metadata": {},
   "source": [
    "# Das Dateisystem\n",
    "\n",
    "## Lernziele\n",
    "\n",
    "* Die Begriffe »Datei« und »Dateisystem« verstehen\n",
    "* Die verschiedenen Dateitypen kennen\n",
    "* Sich im Verzeichnisbaum eines Linux-Systems zurechtfinden\n",
    "* Wissen, wie externe Dateisysteme in den Verzeichnisbaum eingebunden werden\n",
    "\n",
    "## Vorkenntnisse\n",
    "\n",
    "* Linux-Grundkenntnisse (etwa aus den vorherigen Kapiteln)\n",
    "* Umgang mit Dateien und Verzeichnissen (Kapitel 6)"
   ]
  },
  {
   "cell_type": "markdown",
   "metadata": {},
   "source": [
    "## Begriffe\n",
    "\n",
    "### Datei\n",
    "\n",
    "Der Begriff Datei steht ganz allgemein für eine abgeschlossene Ansammlung von Daten. Für die Art der enthaltenen Daten gibt es keine Einschränkungen; eine Datei kann ein Text sein, der nur wenige Buchstaben lang ist, aber auch ein viele Megabyte großes Archiv, das das gesamte Lebenswerk eines Anwenders umfaßt. Dateien müssen natürlich nicht unbedingt gewöhnlichen Text enthalten. Bilder, Klänge, ausführbare Programme und vieles andere mehr werden ebenfalls in Form von Dateien auf dem Datenträger abgelegt. Um herauszufinden, welche Art von Inhalt eine Datei hat, können Sie den Befehl `file` verwenden:"
   ]
  },
  {
   "cell_type": "code",
   "execution_count": 5,
   "metadata": {},
   "outputs": [
    {
     "name": "stdout",
     "output_type": "stream",
     "text": [
      "/bin/ls:           ELF 64-bit LSB executable, x86-64, version 1 (SYSV), dynamically linked, interpreter /lib64/ld-linux-x86-64.so.2, for GNU/Linux 2.6.32, BuildID[sha1]=eca98eeadafddff44caf37ae3d4b227132861218, stripped\r\n",
      "/usr/sbin/adduser: a /usr/bin/perl script, ASCII text executable\r\n",
      "/etc/passwd:       ASCII text\r\n"
     ]
    }
   ],
   "source": [
    "file /bin/ls /usr/sbin/adduser /etc/passwd"
   ]
  },
  {
   "cell_type": "markdown",
   "metadata": {},
   "source": [
    "file errät den Typ einer Datei auf der Basis von Regeln, die im Verzeichnis /usr/share/file stehen. /usr/share/file/magic enthält die Regeln im Klartext. Sie können eigene Regeln definieren, wenn Sie sie in /etc/magic ablegen. Näheres verrät magic (5)."
   ]
  },
  {
   "cell_type": "markdown",
   "metadata": {},
   "source": [
    "### Dateisystem\n",
    "\n",
    "Der Begriff »Dateisystem« wird in der Linux-Szene in mehreren Bedeutungen verwendet. »Dateisystem« ist außer der in diesem Abschnitt eingeführten Bedeutung »Methode, Bytes auf einem Medium zu arrangieren« für manche Leute auch das, was wir als »Verzeichnisbaum« bezeichnen, außerdem nennt man ein konkretes Medium (Festplatte, USB-Stick, ...) mitsamt den darauf befindlichen Daten »Dateisystem« – etwa in dem Sinn, dass man sagt, dass harte Links (Abschnitt 6.4.2) nicht »über Dateisystemgrenzen hinweg«, also nicht zwischen zwei verschiedenen Partitionen auf der Festplatte oder zwischen der Platte und einem USB-Stick, funktionieren."
   ]
  },
  {
   "cell_type": "markdown",
   "metadata": {},
   "source": [
    "## Dateitypen\n",
    "\n",
    "* Normale Datei (-) name\n",
    "* Verzeichnis (d) name/\n",
    "* Symbolisches Link (l) name@ mkdir ln -s \n",
    "* Gerätedatei (b oder c) name mknod \n",
    "* FIFO (named pipe) (p) name| mkfifo \n",
    "* Unix-Domain-Socket (s) name= kein Kommando \n"
   ]
  },
  {
   "cell_type": "markdown",
   "metadata": {},
   "source": [
    "__Übung__\n",
    "\n",
    " 9.1 Suchen Sie in Ihrem System nach Beispielen für die verschiedenen Dateitypen.\n",
    " (Tabelle 9.1 zeigt Ihnen, woran Sie die betreffenden Dateien erkennen können.)\n"
   ]
  },
  {
   "cell_type": "code",
   "execution_count": 6,
   "metadata": {},
   "outputs": [
    {
     "name": "stdout",
     "output_type": "stream",
     "text": [
      "total 96\r\n",
      "drwxr-xr-x   2 root    root     4096 Nov  2 11:18 \u001b[0m\u001b[01;34mbin\u001b[0m\r\n",
      "drwxr-xr-x   3 root    root     4096 Nov  2 11:26 \u001b[01;34mboot\u001b[0m\r\n",
      "drwxr-xr-x   3 mongodb mongodb  4096 Nov  3 10:02 \u001b[01;34mdata\u001b[0m\r\n",
      "drwxr-xr-x  19 root    root     4180 Nov  3 19:56 \u001b[01;34mdev\u001b[0m\r\n",
      "drwxr-xr-x 116 root    root     4096 Nov  3 19:57 \u001b[01;34metc\u001b[0m\r\n",
      "drwxr-xr-x   4 root    root     4096 Nov  3 10:02 \u001b[01;34mhome\u001b[0m\r\n",
      "lrwxrwxrwx   1 root    root       32 Nov  2 11:20 \u001b[01;36minitrd.img\u001b[0m -> boot/initrd.img-4.4.0-45-generic\r\n",
      "lrwxrwxrwx   1 root    root       32 Sep 21 17:12 \u001b[01;36minitrd.img.old\u001b[0m -> boot/initrd.img-4.4.0-38-generic\r\n",
      "drwxr-xr-x  22 root    root     4096 Nov  2 11:18 \u001b[01;34mlib\u001b[0m\r\n",
      "drwxr-xr-x   2 root    root     4096 Nov  2 11:17 \u001b[01;34mlib64\u001b[0m\r\n",
      "drwx------   2 root    root    16384 Sep 12 16:01 \u001b[01;34mlost+found\u001b[0m\r\n",
      "drwxr-xr-x   3 root    root     4096 Sep 12 16:01 \u001b[01;34mmedia\u001b[0m\r\n",
      "drwxr-xr-x   2 root    root     4096 Jul 19 22:43 \u001b[01;34mmnt\u001b[0m\r\n",
      "drwxr-xr-x   3 root    root     4096 Nov  3 19:56 \u001b[01;34mopt\u001b[0m\r\n",
      "dr-xr-xr-x 146 root    root        0 Nov  3 19:55 \u001b[01;34mproc\u001b[0m\r\n",
      "drwx------   7 root    root     4096 Nov  3 10:08 \u001b[01;34mroot\u001b[0m\r\n",
      "drwxr-xr-x  25 root    root     1020 Nov  4 06:25 \u001b[01;34mrun\u001b[0m\r\n",
      "drwxr-xr-x   2 root    root    12288 Nov  3 19:57 \u001b[01;34msbin\u001b[0m\r\n",
      "drwxr-xr-x   2 root    root     4096 Jun 29 22:13 \u001b[01;34msnap\u001b[0m\r\n",
      "drwxr-xr-x   2 root    root     4096 Jul 19 22:43 \u001b[01;34msrv\u001b[0m\r\n",
      "dr-xr-xr-x  13 root    root        0 Nov  3 19:55 \u001b[01;34msys\u001b[0m\r\n",
      "drwxrwxrwt   8 root    root     4096 Nov  4 10:09 \u001b[30;42mtmp\u001b[0m\r\n",
      "drwxr-xr-x  11 root    root     4096 Nov  3 09:53 \u001b[01;34musr\u001b[0m\r\n",
      "drwxrwxr-x   1 vagrant vagrant  4096 Oct 25 10:22 \u001b[01;34mvagrant\u001b[0m\r\n",
      "drwxr-xr-x  14 root    root     4096 Nov  3 10:04 \u001b[01;34mvar\u001b[0m\r\n",
      "lrwxrwxrwx   1 root    root       29 Nov  2 11:20 \u001b[01;36mvmlinuz\u001b[0m -> boot/vmlinuz-4.4.0-45-generic\r\n",
      "lrwxrwxrwx   1 root    root       29 Sep 21 17:12 \u001b[01;36mvmlinuz.old\u001b[0m -> boot/vmlinuz-4.4.0-38-generic\r\n"
     ]
    }
   ],
   "source": [
    "cd /\n",
    "ls -l"
   ]
  },
  {
   "cell_type": "code",
   "execution_count": 7,
   "metadata": {},
   "outputs": [
    {
     "name": "stdout",
     "output_type": "stream",
     "text": [
      "\u001b[0m\u001b[01;34mbin\u001b[0m/   \u001b[01;34metc\u001b[0m/             \u001b[01;34mlib\u001b[0m/         \u001b[01;34mmnt\u001b[0m/   \u001b[01;34mrun\u001b[0m/   \u001b[01;34msys\u001b[0m/      \u001b[01;34mvar\u001b[0m/\r\n",
      "\u001b[01;34mboot\u001b[0m/  \u001b[01;34mhome\u001b[0m/            \u001b[01;34mlib64\u001b[0m/       \u001b[01;34mopt\u001b[0m/   \u001b[01;34msbin\u001b[0m/  \u001b[30;42mtmp\u001b[0m/      \u001b[01;36mvmlinuz\u001b[0m@\r\n",
      "\u001b[01;34mdata\u001b[0m/  \u001b[01;36minitrd.img\u001b[0m@      \u001b[01;34mlost+found\u001b[0m/  \u001b[01;34mproc\u001b[0m/  \u001b[01;34msnap\u001b[0m/  \u001b[01;34musr\u001b[0m/      \u001b[01;36mvmlinuz.old\u001b[0m@\r\n",
      "\u001b[01;34mdev\u001b[0m/   \u001b[01;36minitrd.img.old\u001b[0m@  \u001b[01;34mmedia\u001b[0m/       \u001b[01;34mroot\u001b[0m/  \u001b[01;34msrv\u001b[0m/   \u001b[01;34mvagrant\u001b[0m/\r\n"
     ]
    }
   ],
   "source": [
    "ls -F"
   ]
  },
  {
   "cell_type": "markdown",
   "metadata": {},
   "source": [
    "## Der Linux-Verzeichnisbaum\n",
    "\n",
    "### FHS\n",
    "\n",
    "Um einen Überblick zu behalten, gibt es gewisse Konventionen für die Verzeichnisstruktur und die Dateien, die ein Linux-System ausmachen, den Filesystem Hierarchy Standard, kurz »FHS«.\n",
    "\n",
    "https://de.wikipedia.org/wiki/Filesystem_Hierarchy_Standard\n",
    "\n",
    "* Wurzelverzichnis: /\n",
    "* Heimatverzeichnis von root: /root\n",
    "* Betriebssystemkern /boot\n",
    "* Allgemeine Systemprogramme: /bin\n",
    "* Spezielle Systemprogramme: /sbin\n",
    "* Systembibliotheken: /lib \n",
    "* Gerätedateien: /dev\n",
    "* Konfigurationsdateien: /etc\n",
    "* Zubehör: /opt\n",
    "* Unveränderliche Dateien: /usr\n",
    "* Das Fenster zum Kernel: /proc\n",
    "* Hardwaresteuerung: /sys\n",
    "* Veränderliche Dateien: /var\n",
    "* Vergängliche Daten: /tmp\n",
    "* Serverdateien: /srv\n",
    "* Zugriff auf CD-ROMs und Disketten: /media\n",
    "* Zugriff auf andere Datenträger: /mnt\n",
    "* Heimatverzeichnisse für Benutzer: /home\n",
    "\n",
    "Eine andere Motivation für die Verzeichnisanordnung ist wie folgt: Der FHS unterteilt Dateien und Verzeichnisse grob nach zwei Kriterien – Müssen sie lokal verfügbar sein oder können sie auch über das Netz von einem anderen Rechner bezogen werden, und sind ihre Inhalte statisch (Veränderung nur durch Intervention des Administrators) oder ändern sie sich im laufenden Betrieb?\n",
    "\n",
    "Die Idee hinter dieser Einteilung ist es, die Pflege des Systems zu vereinfachen: Verzeichnisse können leicht auf Datei-Server ausgelagert und damit zentral administriert werden. Verzeichnisse, die keine dynamischen Daten enthalten, können nur zum Lesen eingebunden werden und sind damit absturzresistenter.\n",
    "\n",
    "* statisch\n",
    "    * lokal: /etc, /bin, /sbin, /lib\n",
    "    * entfernt: /usr, /opt\n",
    "* dynamisch\n",
    "    * lokal: /dev, /var/log\n",
    "    * entfernt: /home, /var/mail"
   ]
  },
  {
   "cell_type": "markdown",
   "metadata": {},
   "source": [
    "__Übungen__\n",
    "\n",
    "9.2 Wie viele Programme enthält Ihr System an den »gängigen« Plätzen?\n",
    "\n",
    "9.3 Wird grep mit mehr als einem Dateinamen als Parameter aufgerufen, gibt es vor jeder passenden Zeile den Namen der betreffenden Datei aus. Dies ist möglicherweise ein Problem, wenn man grep mit einem Shell-Dateisuchmuster (etwa »*.txt «) aufruft, da das genaue Format der grep -Ausgabe so nicht vorhersehbar ist und Programme weiter hinten in einer Pipeline deswegen durcheinander kommen können. Wie können Sie die Ausgabe des Dateinamens erzwingen, selbst wenn das Suchmuster nur zu einem einzigen Dateinamen expandiert? (Tipp: Eine dafür nützliche »Datei« steht im\n",
    "Verzeichnis /dev.)\n",
    "\n",
    "9.4 Das Kommando »cp bla.txt /dev/null « tut im Wesentlichen nichts, aber das Kommando »mv bla.txt /dev/null« – entsprechende Zugriffsrechte vorausgesetzt – ersetzt /dev/null durch bla.txt. Warum?\n",
    "\n",
    "9.5 Welche Softwarepakete stehen auf Ihrem System unter /opt? Welche davon stammen aus der Distribution und welche von Drittanbietern? Sollte eine Distribution eine »Schnupperversion« eines Drittanbieter-Programms unter /opt installieren oder anderswo? Was halten Sie davon?\n",
    "\n",
    "9.6 Warum ist es unklug, Sicherheitskopien des Verzeichnisses /proc anzulegen?\n"
   ]
  },
  {
   "cell_type": "markdown",
   "metadata": {},
   "source": [
    "## Verzeichnisbaum und Dateisysteme\n"
   ]
  },
  {
   "cell_type": "code",
   "execution_count": 8,
   "metadata": {},
   "outputs": [
    {
     "name": "stdout",
     "output_type": "stream",
     "text": [
      "# /etc/fstab: static file system information.\r\n",
      "#\r\n",
      "# Use 'blkid' to print the universally unique identifier for a\r\n",
      "# device; this may be used with UUID= as a more robust way to name devices\r\n",
      "# that works even if disks are added and removed. See fstab(5).\r\n",
      "#\r\n",
      "# <file system> <mount point>   <type>  <options>       <dump>  <pass>\r\n",
      "# / was on /dev/sda1 during installation\r\n",
      "UUID=0f601548-d7b4-4eea-836c-aa960f35c330 /               ext4    errors=remount-ro 0       1\r\n",
      "# swap was on /dev/sda5 during installation\r\n",
      "UUID=b4665c18-3579-490a-9d90-5b0b0ef69a24 none            swap    sw              0       0\r\n"
     ]
    }
   ],
   "source": [
    "cat /etc/fstab"
   ]
  },
  {
   "cell_type": "markdown",
   "metadata": {},
   "source": [
    "Zu UUID https://wiki.ubuntuusers.de/UUID/"
   ]
  },
  {
   "cell_type": "code",
   "execution_count": 9,
   "metadata": {},
   "outputs": [
    {
     "name": "stdout",
     "output_type": "stream",
     "text": [
      "/dev/sr0: UUID=\"2016-10-18-14-59-47-00\" LABEL=\"VBOXADDITIONS_5.1.8_111374\" TYPE=\"iso9660\"\r\n",
      "/dev/sda1: UUID=\"0f601548-d7b4-4eea-836c-aa960f35c330\" TYPE=\"ext4\" PARTUUID=\"5c3f723b-01\"\r\n",
      "/dev/sda5: UUID=\"b4665c18-3579-490a-9d90-5b0b0ef69a24\" TYPE=\"swap\" PARTUUID=\"5c3f723b-05\"\r\n"
     ]
    }
   ],
   "source": [
    "sudo blkid"
   ]
  },
  {
   "cell_type": "code",
   "execution_count": 10,
   "metadata": {},
   "outputs": [
    {
     "name": "stdout",
     "output_type": "stream",
     "text": [
      "total 0\r\n",
      "lrwxrwxrwx 1 root root 10 Nov  3 19:55 \u001b[0m\u001b[01;36m0f601548-d7b4-4eea-836c-aa960f35c330\u001b[0m -> \u001b[40;33;01m../../sda1\u001b[0m\r\n",
      "lrwxrwxrwx 1 root root  9 Nov  3 19:57 \u001b[01;36m2016-10-18-14-59-47-00\u001b[0m -> \u001b[40;33;01m../../sr0\u001b[0m\r\n",
      "lrwxrwxrwx 1 root root 10 Nov  3 19:55 \u001b[01;36mb4665c18-3579-490a-9d90-5b0b0ef69a24\u001b[0m -> \u001b[40;33;01m../../sda5\u001b[0m\r\n"
     ]
    }
   ],
   "source": [
    "ls -Al /dev/disk/by-uuid"
   ]
  },
  {
   "cell_type": "code",
   "execution_count": null,
   "metadata": {},
   "outputs": [],
   "source": []
  }
 ],
 "metadata": {
  "kernelspec": {
   "display_name": "Bash",
   "language": "bash",
   "name": "bash"
  },
  "language_info": {
   "codemirror_mode": "shell",
   "file_extension": ".sh",
   "mimetype": "text/x-sh",
   "name": "bash"
  }
 },
 "nbformat": 4,
 "nbformat_minor": 1
}
